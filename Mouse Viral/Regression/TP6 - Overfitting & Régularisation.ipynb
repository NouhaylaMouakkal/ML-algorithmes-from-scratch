{
 "cells": [
  {
   "cell_type": "markdown",
   "id": "e61c28a2",
   "metadata": {},
   "source": [
    "# Overfitting & Régularisation"
   ]
  },
  {
   "cell_type": "markdown",
   "id": "0bf5d9a6",
   "metadata": {},
   "source": [
    "# 1. Improting labraries"
   ]
  },
  {
   "cell_type": "code",
   "execution_count": 1,
   "id": "8554f027",
   "metadata": {},
   "outputs": [],
   "source": [
    "import numpy as np\n",
    "import pandas as pd\n",
    "import matplotlib.pyplot as plt\n",
    "import seaborn as sns\n",
    "from sklearn.model_selection import train_test_split\n",
    "from sklearn.preprocessing import PolynomialFeatures\n",
    "from sklearn.linear_model import LinearRegression\n",
    "from sklearn.metrics import mean_squared_error"
   ]
  },
  {
   "cell_type": "markdown",
   "id": "c00a82ed",
   "metadata": {},
   "source": [
    "# 2. Importing dataset"
   ]
  },
  {
   "cell_type": "code",
   "execution_count": 2,
   "id": "c82b4441",
   "metadata": {},
   "outputs": [
    {
     "data": {
      "text/html": [
       "<div>\n",
       "<style scoped>\n",
       "    .dataframe tbody tr th:only-of-type {\n",
       "        vertical-align: middle;\n",
       "    }\n",
       "\n",
       "    .dataframe tbody tr th {\n",
       "        vertical-align: top;\n",
       "    }\n",
       "\n",
       "    .dataframe thead th {\n",
       "        text-align: right;\n",
       "    }\n",
       "</style>\n",
       "<table border=\"1\" class=\"dataframe\">\n",
       "  <thead>\n",
       "    <tr style=\"text-align: right;\">\n",
       "      <th></th>\n",
       "      <th>Med_1_mL</th>\n",
       "      <th>Med_2_mL</th>\n",
       "      <th>Virus Present</th>\n",
       "    </tr>\n",
       "  </thead>\n",
       "  <tbody>\n",
       "    <tr>\n",
       "      <th>0</th>\n",
       "      <td>6.508231</td>\n",
       "      <td>8.582531</td>\n",
       "      <td>0</td>\n",
       "    </tr>\n",
       "    <tr>\n",
       "      <th>1</th>\n",
       "      <td>4.126116</td>\n",
       "      <td>3.073459</td>\n",
       "      <td>1</td>\n",
       "    </tr>\n",
       "    <tr>\n",
       "      <th>2</th>\n",
       "      <td>6.427870</td>\n",
       "      <td>6.369758</td>\n",
       "      <td>0</td>\n",
       "    </tr>\n",
       "    <tr>\n",
       "      <th>3</th>\n",
       "      <td>3.672953</td>\n",
       "      <td>4.905215</td>\n",
       "      <td>1</td>\n",
       "    </tr>\n",
       "    <tr>\n",
       "      <th>4</th>\n",
       "      <td>1.580321</td>\n",
       "      <td>2.440562</td>\n",
       "      <td>1</td>\n",
       "    </tr>\n",
       "  </tbody>\n",
       "</table>\n",
       "</div>"
      ],
      "text/plain": [
       "   Med_1_mL  Med_2_mL  Virus Present\n",
       "0  6.508231  8.582531              0\n",
       "1  4.126116  3.073459              1\n",
       "2  6.427870  6.369758              0\n",
       "3  3.672953  4.905215              1\n",
       "4  1.580321  2.440562              1"
      ]
     },
     "execution_count": 2,
     "metadata": {},
     "output_type": "execute_result"
    }
   ],
   "source": [
    "df = pd.read_csv(\"mouse_viral_study.csv\")\n",
    "df.head()"
   ]
  },
  {
   "cell_type": "code",
   "execution_count": 3,
   "id": "ef680724",
   "metadata": {},
   "outputs": [
    {
     "data": {
      "text/html": [
       "<div>\n",
       "<style scoped>\n",
       "    .dataframe tbody tr th:only-of-type {\n",
       "        vertical-align: middle;\n",
       "    }\n",
       "\n",
       "    .dataframe tbody tr th {\n",
       "        vertical-align: top;\n",
       "    }\n",
       "\n",
       "    .dataframe thead th {\n",
       "        text-align: right;\n",
       "    }\n",
       "</style>\n",
       "<table border=\"1\" class=\"dataframe\">\n",
       "  <thead>\n",
       "    <tr style=\"text-align: right;\">\n",
       "      <th></th>\n",
       "      <th>Med_1_mL</th>\n",
       "      <th>Med_2_mL</th>\n",
       "      <th>Virus Present</th>\n",
       "    </tr>\n",
       "  </thead>\n",
       "  <tbody>\n",
       "    <tr>\n",
       "      <th>0</th>\n",
       "      <td>6.508231</td>\n",
       "      <td>8.582531</td>\n",
       "      <td>0</td>\n",
       "    </tr>\n",
       "    <tr>\n",
       "      <th>1</th>\n",
       "      <td>4.126116</td>\n",
       "      <td>3.073459</td>\n",
       "      <td>1</td>\n",
       "    </tr>\n",
       "    <tr>\n",
       "      <th>2</th>\n",
       "      <td>6.427870</td>\n",
       "      <td>6.369758</td>\n",
       "      <td>0</td>\n",
       "    </tr>\n",
       "    <tr>\n",
       "      <th>3</th>\n",
       "      <td>3.672953</td>\n",
       "      <td>4.905215</td>\n",
       "      <td>1</td>\n",
       "    </tr>\n",
       "    <tr>\n",
       "      <th>4</th>\n",
       "      <td>1.580321</td>\n",
       "      <td>2.440562</td>\n",
       "      <td>1</td>\n",
       "    </tr>\n",
       "    <tr>\n",
       "      <th>...</th>\n",
       "      <td>...</td>\n",
       "      <td>...</td>\n",
       "      <td>...</td>\n",
       "    </tr>\n",
       "    <tr>\n",
       "      <th>395</th>\n",
       "      <td>2.884122</td>\n",
       "      <td>3.271748</td>\n",
       "      <td>1</td>\n",
       "    </tr>\n",
       "    <tr>\n",
       "      <th>396</th>\n",
       "      <td>7.290855</td>\n",
       "      <td>9.488672</td>\n",
       "      <td>0</td>\n",
       "    </tr>\n",
       "    <tr>\n",
       "      <th>397</th>\n",
       "      <td>7.895325</td>\n",
       "      <td>8.272529</td>\n",
       "      <td>0</td>\n",
       "    </tr>\n",
       "    <tr>\n",
       "      <th>398</th>\n",
       "      <td>2.690592</td>\n",
       "      <td>2.674979</td>\n",
       "      <td>1</td>\n",
       "    </tr>\n",
       "    <tr>\n",
       "      <th>399</th>\n",
       "      <td>7.587821</td>\n",
       "      <td>9.473968</td>\n",
       "      <td>0</td>\n",
       "    </tr>\n",
       "  </tbody>\n",
       "</table>\n",
       "<p>400 rows × 3 columns</p>\n",
       "</div>"
      ],
      "text/plain": [
       "     Med_1_mL  Med_2_mL  Virus Present\n",
       "0    6.508231  8.582531              0\n",
       "1    4.126116  3.073459              1\n",
       "2    6.427870  6.369758              0\n",
       "3    3.672953  4.905215              1\n",
       "4    1.580321  2.440562              1\n",
       "..        ...       ...            ...\n",
       "395  2.884122  3.271748              1\n",
       "396  7.290855  9.488672              0\n",
       "397  7.895325  8.272529              0\n",
       "398  2.690592  2.674979              1\n",
       "399  7.587821  9.473968              0\n",
       "\n",
       "[400 rows x 3 columns]"
      ]
     },
     "execution_count": 3,
     "metadata": {},
     "output_type": "execute_result"
    }
   ],
   "source": [
    "df"
   ]
  },
  {
   "cell_type": "code",
   "execution_count": 4,
   "id": "1cb4780e",
   "metadata": {},
   "outputs": [
    {
     "data": {
      "text/html": [
       "<div>\n",
       "<style scoped>\n",
       "    .dataframe tbody tr th:only-of-type {\n",
       "        vertical-align: middle;\n",
       "    }\n",
       "\n",
       "    .dataframe tbody tr th {\n",
       "        vertical-align: top;\n",
       "    }\n",
       "\n",
       "    .dataframe thead th {\n",
       "        text-align: right;\n",
       "    }\n",
       "</style>\n",
       "<table border=\"1\" class=\"dataframe\">\n",
       "  <thead>\n",
       "    <tr style=\"text-align: right;\">\n",
       "      <th></th>\n",
       "      <th>Med_1_mL</th>\n",
       "      <th>Med_2_mL</th>\n",
       "      <th>Virus Present</th>\n",
       "    </tr>\n",
       "  </thead>\n",
       "  <tbody>\n",
       "    <tr>\n",
       "      <th>Med_1_mL</th>\n",
       "      <td>1.000000</td>\n",
       "      <td>0.828090</td>\n",
       "      <td>-0.922304</td>\n",
       "    </tr>\n",
       "    <tr>\n",
       "      <th>Med_2_mL</th>\n",
       "      <td>0.828090</td>\n",
       "      <td>1.000000</td>\n",
       "      <td>-0.903718</td>\n",
       "    </tr>\n",
       "    <tr>\n",
       "      <th>Virus Present</th>\n",
       "      <td>-0.922304</td>\n",
       "      <td>-0.903718</td>\n",
       "      <td>1.000000</td>\n",
       "    </tr>\n",
       "  </tbody>\n",
       "</table>\n",
       "</div>"
      ],
      "text/plain": [
       "               Med_1_mL  Med_2_mL  Virus Present\n",
       "Med_1_mL       1.000000  0.828090      -0.922304\n",
       "Med_2_mL       0.828090  1.000000      -0.903718\n",
       "Virus Present -0.922304 -0.903718       1.000000"
      ]
     },
     "execution_count": 4,
     "metadata": {},
     "output_type": "execute_result"
    }
   ],
   "source": [
    "df.corr()"
   ]
  },
  {
   "cell_type": "code",
   "execution_count": 5,
   "id": "6dd2e58a",
   "metadata": {},
   "outputs": [
    {
     "data": {
      "image/png": "[encoded data removed]",
      "text/plain": [
       "<Figure size 640x480 with 2 Axes>"
      ]
     },
     "metadata": {},
     "output_type": "display_data"
    }
   ],
   "source": [
    "plt.figure()\n",
    "sns.heatmap(df.corr(),annot=True)\n",
    "plt.show()"
   ]
  },
  {
   "cell_type": "markdown",
   "id": "e3314d42",
   "metadata": {},
   "source": [
    "# 3. Handling missing data"
   ]
  },
  {
   "cell_type": "code",
   "execution_count": 6,
   "id": "373ba9ad",
   "metadata": {},
   "outputs": [
    {
     "data": {
      "text/plain": [
       "0"
      ]
     },
     "execution_count": 6,
     "metadata": {},
     "output_type": "execute_result"
    }
   ],
   "source": [
    "df.isnull().values.sum()"
   ]
  },
  {
   "cell_type": "code",
   "execution_count": 7,
   "id": "a3ceb30b",
   "metadata": {},
   "outputs": [],
   "source": [
    "x = df[['Med_1_mL']].values\n",
    "y = df[['Med_2_mL']].values"
   ]
  },
  {
   "cell_type": "code",
   "execution_count": 8,
   "id": "65a47fb0",
   "metadata": {},
   "outputs": [
    {
     "name": "stdout",
     "output_type": "stream",
     "text": [
      "(400, 1)\n",
      "(400, 1)\n"
     ]
    }
   ],
   "source": [
    "print(x.shape)\n",
    "print(y.shape)"
   ]
  },
  {
   "cell_type": "code",
   "execution_count": 9,
   "id": "ca55f7e3",
   "metadata": {},
   "outputs": [
    {
     "data": {
      "image/png": "[encoded data removed]",
      "text/plain": [
       "<Figure size 640x480 with 1 Axes>"
      ]
     },
     "metadata": {},
     "output_type": "display_data"
    }
   ],
   "source": [
    "plt.plot(y, x, 'o')\n",
    "plt.xlabel('Med_1_mL')\n",
    "plt.ylabel('Med_2_mL')\n",
    "plt.show()"
   ]
  },
  {
   "cell_type": "markdown",
   "id": "fc3d4320",
   "metadata": {},
   "source": [
    "# 4. Use the BIC to select the optimal polynomial model"
   ]
  },
  {
   "cell_type": "code",
   "execution_count": 10,
   "id": "a97f3d5d",
   "metadata": {},
   "outputs": [],
   "source": [
    "X_train, X_test, y_train, y_test = train_test_split(x, y, test_size=0.3, random_state=101)\n",
    "X_train=np.array(X_train).reshape(-1, 1)"
   ]
  },
  {
   "cell_type": "code",
   "execution_count": 11,
   "id": "1e7e7cae",
   "metadata": {},
   "outputs": [
    {
     "name": "stdout",
     "output_type": "stream",
     "text": [
      "Best polynomial degree: 9\n"
     ]
    }
   ],
   "source": [
    "# Define maximum polynomial degree\n",
    "max_degree = 17\n",
    "\n",
    "# Initialize lists to store BIC values and models\n",
    "bic_values = []\n",
    "models = []\n",
    "\n",
    "# Loop over polynomial degrees\n",
    "for degree in range(1, max_degree+1):\n",
    "    # Create polynomial features\n",
    "    poly_features = PolynomialFeatures(degree=degree)\n",
    "    X_train_poly = poly_features.fit_transform(X_train)\n",
    "    \n",
    "    # Fit polynomial regression model\n",
    "    model = LinearRegression()\n",
    "    model.fit(X_train_poly, y_train)\n",
    "    \n",
    "    # Compute number of parameters\n",
    "    num_params = X_train_poly.shape[1]\n",
    "    \n",
    "    # Compute log-likelihood\n",
    "    y_train_pred = model.predict(X_train_poly)\n",
    "    log_likelihood = -0.5 * len(X_train) * np.log(mean_squared_error(y_train, y_train_pred))\n",
    "    \n",
    "    # Compute BIC\n",
    "    bic = -2 * log_likelihood + num_params * np.log(len(X_train))\n",
    "    \n",
    "    # Append BIC value and model\n",
    "    bic_values.append(bic)\n",
    "    models.append(model)\n",
    "\n",
    "# Find index of model with lowest BIC\n",
    "best_model_idx = np.argmin(bic_values)\n",
    "best_model = models[best_model_idx]\n",
    "best_degree = best_model_idx + 1\n",
    "\n",
    "print(f\"Best polynomial degree: {best_degree}\")"
   ]
  },
  {
   "cell_type": "code",
   "execution_count": 12,
   "id": "417ba8e6",
   "metadata": {},
   "outputs": [
    {
     "data": {
      "image/png": "[encoded data removed]",
      "text/plain": [
       "<Figure size 640x480 with 1 Axes>"
      ]
     },
     "metadata": {},
     "output_type": "display_data"
    }
   ],
   "source": [
    "# Plot BIC values vs. polynomial degree\n",
    "plt.plot(range(1, max_degree+1), bic_values, marker='o')\n",
    "plt.xlabel('Polynomial Degree')\n",
    "plt.ylabel('BIC Value')\n",
    "plt.title('BIC Values vs. Polynomial Degree')\n",
    "plt.xticks(range(1, max_degree+1))\n",
    "plt.grid(True)\n",
    "plt.show()"
   ]
  },
  {
   "cell_type": "markdown",
   "id": "74865a81",
   "metadata": {},
   "source": [
    "# 5. Matrice polynomiale (degree 17)"
   ]
  },
  {
   "cell_type": "code",
   "execution_count": 13,
   "id": "d422c4b2",
   "metadata": {},
   "outputs": [
    {
     "name": "stdout",
     "output_type": "stream",
     "text": [
      "(400, 17)\n",
      "[[6.50823109e+00 4.23570720e+01 2.75669613e+02 1.79412154e+03\n",
      "  1.16765576e+04 7.59937354e+04 4.94584791e+05 3.21887212e+06\n",
      "  2.09491636e+07 1.36341998e+08 8.87345230e+08 5.77504782e+09\n",
      "  3.75853458e+10 2.44614116e+11 1.59200519e+12 1.03611377e+13\n",
      "  6.74326786e+13]\n",
      " [4.12611616e+00 1.70248346e+01 7.02464450e+01 2.89844992e+02\n",
      "  1.19593410e+03 4.93456303e+03 2.03605803e+04 8.40101193e+04\n",
      "  3.46635511e+05 1.43025838e+06 5.90141222e+06 2.43499123e+07\n",
      "  1.00470567e+08 4.14553229e+08 1.71049478e+09 7.05770014e+09\n",
      "  2.91208906e+10]\n",
      " [6.42787048e+00 4.13175189e+01 2.65583660e+02 1.70713737e+03\n",
      "  1.09732579e+04 7.05346805e+04 4.53387790e+05 2.91431799e+06\n",
      "  1.87328586e+07 1.20412389e+08 7.73995239e+08 4.97514115e+09\n",
      "  3.19795629e+10 2.05560488e+11 1.32131620e+12 8.49324937e+12\n",
      "  5.45935069e+13]\n",
      " [3.67295336e+00 1.34905864e+01 4.95502946e+01 1.81995921e+02\n",
      "  6.68462529e+02 2.45523169e+03 9.01795150e+03 3.31225152e+04\n",
      "  1.21657454e+05 4.46842153e+05 1.64123039e+06 6.02816267e+06\n",
      "  2.21411603e+07 8.13234492e+07 2.98697236e+08 1.09710102e+09\n",
      "  4.02960086e+09]\n",
      " [1.58032068e+00 2.49741345e+00 3.94671412e+00 6.23707395e+00\n",
      "  9.85657694e+00 1.55765524e+01 2.46159478e+01 3.89010914e+01\n",
      "  6.14761993e+01 9.71521091e+01 1.53531487e+02 2.42628984e+02\n",
      "  3.83431601e+02 6.05944889e+02 9.57587238e+02 1.51329492e+03\n",
      "  2.39149125e+03]\n",
      " [2.15822377e+00 4.65792986e+00 1.00528550e+01 2.16963106e+01\n",
      "  4.68254933e+01 1.01059893e+02 2.18109863e+02 4.70729892e+02\n",
      "  1.01594044e+03 2.19262682e+03 4.73217933e+03 1.02131019e+04\n",
      "  2.20421594e+04 4.75719125e+04 1.02670832e+05 2.21586631e+05\n",
      "  4.78233536e+05]\n",
      " [8.17222350e+00 6.67852369e+01 5.45783882e+02 4.46026787e+03\n",
      "  3.64503059e+04 2.97880046e+05 2.43434231e+06 1.98939894e+07\n",
      "  1.62578128e+08 1.32862480e+09 1.08578188e+10 8.87325218e+10\n",
      "  7.25141999e+11 5.92602249e+12 4.84287802e+13 3.95770815e+14\n",
      "  3.23432756e+15]\n",
      " [8.71965234e+00 7.60323368e+01 6.62975544e+02 5.78091625e+03\n",
      "  5.04075798e+04 4.39536571e+05 3.83260609e+06 3.34189926e+07\n",
      "  2.91401997e+08 2.54092411e+09 2.21559748e+10 1.93192398e+11\n",
      "  1.68457054e+12 1.46888694e+13 1.28081835e+14 1.11682907e+15\n",
      "  9.73836121e+15]\n",
      " [6.77907937e+00 4.59559171e+01 3.11538810e+02 2.11194632e+03\n",
      "  1.43170517e+04 9.70564301e+04 6.57953243e+05 4.46031726e+06\n",
      "  3.02368447e+07 2.04977970e+08 1.38956193e+09 9.41995063e+09\n",
      "  6.38585930e+10 4.32902471e+11 2.93468021e+12 1.98944301e+13\n",
      "  1.34865921e+14]\n",
      " [3.04363319e+00 9.26370300e+00 2.81953139e+01 8.58161932e+01\n",
      "  2.61193014e+02 7.94975727e+02 2.41961451e+03 7.36441902e+03\n",
      "  2.24145902e+04 6.82217906e+04 2.07642106e+05 6.31986406e+05\n",
      "  1.92353480e+06 5.85453436e+06 1.78190551e+07 5.42346675e+07\n",
      "  1.65070434e+08]]\n"
     ]
    }
   ],
   "source": [
    "X = np.hstack((\n",
    "    x,\n",
    "    x**2,\n",
    "    x**3,\n",
    "    x**4,\n",
    "    x**5,\n",
    "    x**6,\n",
    "    x**7,\n",
    "    x**8,\n",
    "    x**9,\n",
    "    x**10,\n",
    "    x**11,\n",
    "    x**12,\n",
    "    x**13,\n",
    "    x**14,\n",
    "    x**15,\n",
    "    x**16,\n",
    "    x**17))\n",
    "\n",
    "\n",
    "print(X.shape)\n",
    "print(X[:10])"
   ]
  },
  {
   "cell_type": "code",
   "execution_count": 14,
   "id": "9fa688da",
   "metadata": {},
   "outputs": [],
   "source": [
    "#np.array[x**i for i in range(18)] "
   ]
  },
  {
   "cell_type": "code",
   "execution_count": 15,
   "id": "8ba6c408",
   "metadata": {},
   "outputs": [
    {
     "data": {
      "text/plain": [
       "(400, 1)"
      ]
     },
     "execution_count": 15,
     "metadata": {},
     "output_type": "execute_result"
    }
   ],
   "source": [
    "y = y.reshape(-1,1)\n",
    "y.shape"
   ]
  },
  {
   "cell_type": "markdown",
   "id": "56d3a128",
   "metadata": {},
   "source": [
    "# 6. Spliting the data to train and test"
   ]
  },
  {
   "cell_type": "code",
   "execution_count": 16,
   "id": "c2705c2f",
   "metadata": {},
   "outputs": [
    {
     "name": "stdout",
     "output_type": "stream",
     "text": [
      "x_train shape  :  (280, 17)\n",
      "x_test shape  :  (120, 17)\n",
      "y_train shape  :  (280, 1)\n",
      "y_test shape  :  (120, 1)\n"
     ]
    }
   ],
   "source": [
    "x_train, x_test, y_train, y_test =  train_test_split(X, y, test_size=0.3, random_state=101)\n",
    "\n",
    "print('x_train shape  : ', x_train.shape)\n",
    "print('x_test shape  : ', x_test.shape)\n",
    "print('y_train shape  : ', y_train.shape)\n",
    "print('y_test shape  : ', y_test.shape)"
   ]
  },
  {
   "cell_type": "code",
   "execution_count": 17,
   "id": "3c12f73b",
   "metadata": {},
   "outputs": [
    {
     "data": {
      "text/plain": [
       "114822903030154.86"
      ]
     },
     "execution_count": 17,
     "metadata": {},
     "output_type": "execute_result"
    }
   ],
   "source": [
    "x_train.mean()"
   ]
  },
  {
   "cell_type": "code",
   "execution_count": 18,
   "id": "2ee44450",
   "metadata": {},
   "outputs": [
    {
     "data": {
      "text/plain": [
       "1637458008805406.5"
      ]
     },
     "execution_count": 18,
     "metadata": {},
     "output_type": "execute_result"
    }
   ],
   "source": [
    "x_train.std()"
   ]
  },
  {
   "cell_type": "markdown",
   "id": "596d9e51",
   "metadata": {},
   "source": [
    "# 7. Normalization"
   ]
  },
  {
   "cell_type": "code",
   "execution_count": 19,
   "id": "28b4331e",
   "metadata": {},
   "outputs": [],
   "source": [
    "def z_score_normalization(data):\n",
    "    # Calcul des moyennes et des déviations standard de chaque caractéristique\n",
    "    mean = np.mean(data, axis=0)\n",
    "    std = np.std(data, axis=0)\n",
    "\n",
    "    # Normalisation des données en utilisant la méthode Z-score\n",
    "    data_normalized = (data - mean) / std\n",
    "\n",
    "    return data_normalized, mean, std"
   ]
  },
  {
   "cell_type": "code",
   "execution_count": 20,
   "id": "f4e0ed9e",
   "metadata": {},
   "outputs": [
    {
     "data": {
      "text/plain": [
       "array([[-1.39347317, -1.16784237, -1.00402436, ..., -0.31225089,\n",
       "        -0.28768701, -0.26607298],\n",
       "       [-0.45017504, -0.61219361, -0.69799982, ..., -0.31220701,\n",
       "        -0.28766717, -0.26606404],\n",
       "       [ 0.99243654,  0.97155918,  0.90778994, ..., -0.0647672 ,\n",
       "        -0.08869832, -0.10663982],\n",
       "       ...,\n",
       "       [ 0.80691995,  0.71816037,  0.59619516, ..., -0.20847741,\n",
       "        -0.20894542, -0.2065355 ],\n",
       "       [-1.43198909, -1.18246609, -1.00902223, ..., -0.31225089,\n",
       "        -0.28768701, -0.26607298],\n",
       "       [ 0.70109002,  0.58018138,  0.43427418, ..., -0.2505147 ,\n",
       "        -0.24243674, -0.23302301]])"
      ]
     },
     "execution_count": 20,
     "metadata": {},
     "output_type": "execute_result"
    }
   ],
   "source": [
    "x_train_norm, mean, std = z_score_normalization(x_train)\n",
    "x_train_norm"
   ]
  },
  {
   "cell_type": "code",
   "execution_count": 21,
   "id": "7f6bc671",
   "metadata": {},
   "outputs": [
    {
     "data": {
      "text/plain": [
       "-4.7767578874628587e-17"
      ]
     },
     "execution_count": 21,
     "metadata": {},
     "output_type": "execute_result"
    }
   ],
   "source": [
    "x_train_norm.mean()"
   ]
  },
  {
   "cell_type": "code",
   "execution_count": 22,
   "id": "a4120ce5",
   "metadata": {},
   "outputs": [
    {
     "data": {
      "text/plain": [
       "0.9999999999999998"
      ]
     },
     "execution_count": 22,
     "metadata": {},
     "output_type": "execute_result"
    }
   ],
   "source": [
    "x_train_norm.std()"
   ]
  },
  {
   "cell_type": "code",
   "execution_count": 23,
   "id": "3e214f54",
   "metadata": {},
   "outputs": [
    {
     "data": {
      "text/plain": [
       "array([5.34144749e+00, 3.39105744e+01, 2.38954644e+02, 1.78631159e+03,\n",
       "       1.38234289e+04, 1.09379141e+05, 8.79495253e+05, 7.16358981e+06,\n",
       "       5.90031219e+07, 4.90939318e+08, 4.12390290e+09, 3.49555337e+10,\n",
       "       2.98874295e+11, 2.57680595e+12, 2.23952521e+13, 1.96142015e+14,\n",
       "       1.73053677e+15])"
      ]
     },
     "execution_count": 23,
     "metadata": {},
     "output_type": "execute_result"
    }
   ],
   "source": [
    "mean"
   ]
  },
  {
   "cell_type": "code",
   "execution_count": 24,
   "id": "beb20cd8",
   "metadata": {},
   "outputs": [
    {
     "data": {
      "text/plain": [
       "array([2.31937773e+00, 2.52266632e+01, 2.28647806e+02, 1.99315847e+03,\n",
       "       1.73162390e+04, 1.51630265e+05, 1.34286785e+06, 1.20343257e+07,\n",
       "       1.09061386e+08, 9.98402288e+08, 9.22135845e+09, 8.58262990e+10,\n",
       "       8.04094588e+11, 7.57595210e+12, 7.17219799e+13, 6.81789607e+14,\n",
       "       6.50399299e+15])"
      ]
     },
     "execution_count": 24,
     "metadata": {},
     "output_type": "execute_result"
    }
   ],
   "source": [
    "std"
   ]
  },
  {
   "cell_type": "code",
   "execution_count": 25,
   "id": "6a12917f",
   "metadata": {},
   "outputs": [],
   "source": [
    "x_test_norm = (x_test - mean)/std"
   ]
  },
  {
   "cell_type": "code",
   "execution_count": 26,
   "id": "076a4262",
   "metadata": {},
   "outputs": [],
   "source": [
    "X_train_norm = np.hstack((x_train_norm, np.ones((x_train.shape[0], 1))))\n",
    "X_test_norm = np.hstack((x_test_norm, np.ones((x_test.shape[0], 1))))\n",
    "Y_train = y_train\n",
    "Y_test = y_test"
   ]
  },
  {
   "cell_type": "code",
   "execution_count": 27,
   "id": "09bbb685",
   "metadata": {},
   "outputs": [
    {
     "data": {
      "text/plain": [
       "array([[-0.39030473],\n",
       "       [-0.95301499],\n",
       "       [-2.21406144],\n",
       "       [-1.18885779],\n",
       "       [ 1.41251014],\n",
       "       [-0.56128931],\n",
       "       [ 0.04297346],\n",
       "       [ 0.97387491],\n",
       "       [ 1.05894199],\n",
       "       [-1.21995456],\n",
       "       [ 1.42535747],\n",
       "       [ 0.10856035],\n",
       "       [-0.87626544],\n",
       "       [ 0.35982656],\n",
       "       [-0.24106559],\n",
       "       [-0.30754827],\n",
       "       [ 0.76573819],\n",
       "       [ 0.37569459]])"
      ]
     },
     "execution_count": 27,
     "metadata": {},
     "output_type": "execute_result"
    }
   ],
   "source": [
    "theta = np.random.randn(18, 1)\n",
    "theta"
   ]
  },
  {
   "cell_type": "markdown",
   "id": "d43ce517",
   "metadata": {},
   "source": [
    "# 8. Modèle Linéaire"
   ]
  },
  {
   "cell_type": "code",
   "execution_count": 28,
   "id": "2a9c6134",
   "metadata": {},
   "outputs": [],
   "source": [
    "def model(X, theta):\n",
    "    return X.dot(theta)"
   ]
  },
  {
   "cell_type": "markdown",
   "id": "ce1fd43f",
   "metadata": {},
   "source": [
    "# 9. Fonction coût : Erreur Quadratique Moyenne"
   ]
  },
  {
   "cell_type": "code",
   "execution_count": 29,
   "id": "a023c031",
   "metadata": {},
   "outputs": [],
   "source": [
    "def cost_function(X, y, theta):\n",
    "    m = len(y)\n",
    "    return 1/(2*m) * np.sum((model(X, theta) - y)**2)"
   ]
  },
  {
   "cell_type": "code",
   "execution_count": 30,
   "id": "74583721",
   "metadata": {},
   "outputs": [
    {
     "data": {
      "text/plain": [
       "24.45029842483468"
      ]
     },
     "execution_count": 30,
     "metadata": {},
     "output_type": "execute_result"
    }
   ],
   "source": [
    "cost_function(X_train_norm, Y_train, theta)"
   ]
  },
  {
   "cell_type": "markdown",
   "id": "069c128b",
   "metadata": {},
   "source": [
    "# 10. Gradients et Descente de Gradient"
   ]
  },
  {
   "cell_type": "code",
   "execution_count": 31,
   "id": "a779096e",
   "metadata": {},
   "outputs": [],
   "source": [
    "def grad(X, y, theta):\n",
    "    m = len(y)\n",
    "    return 1/m * X.T.dot(model(X, theta) - y)"
   ]
  },
  {
   "cell_type": "code",
   "execution_count": 32,
   "id": "1347580e",
   "metadata": {},
   "outputs": [],
   "source": [
    "def gradient_descent(X, y, theta, learning_rate, n_iterations):\n",
    "    \n",
    "    cost_history = np.zeros(n_iterations) # création d'un tableau de stockage pour enregistrer l'évolution du Cout du modele\n",
    "    \n",
    "    for i in range(0, n_iterations):\n",
    "        theta = theta - learning_rate * grad(X, y, theta) # mise a jour du parametre theta (formule du gradient descent)\n",
    "        cost_history[i] = cost_function(X, y, theta) # on enregistre la valeur du Cout au tour i dans cost_history[i]\n",
    "        \n",
    "    return theta, cost_history"
   ]
  },
  {
   "cell_type": "markdown",
   "id": "29822ebc",
   "metadata": {},
   "source": [
    "# 11. Phase d'entrainement"
   ]
  },
  {
   "cell_type": "code",
   "execution_count": 33,
   "id": "79b8accf",
   "metadata": {
    "scrolled": true
   },
   "outputs": [],
   "source": [
    "n_iterations = 10000\n",
    "learning_rate = 0.05\n",
    "\n",
    "theta_final, cost_history = gradient_descent(X_train_norm, Y_train, theta, learning_rate, n_iterations)"
   ]
  },
  {
   "cell_type": "markdown",
   "id": "75a6b84f",
   "metadata": {},
   "source": [
    "# 12. Courbe d'apprentissage"
   ]
  },
  {
   "cell_type": "code",
   "execution_count": 34,
   "id": "3c252b67",
   "metadata": {},
   "outputs": [
    {
     "data": {
      "image/png": "[encoded data removed]",
      "text/plain": [
       "<Figure size 640x480 with 1 Axes>"
      ]
     },
     "metadata": {},
     "output_type": "display_data"
    }
   ],
   "source": [
    "plt.plot(range(n_iterations), cost_history)\n",
    "plt.show()"
   ]
  },
  {
   "cell_type": "markdown",
   "id": "1d9e1bf1",
   "metadata": {},
   "source": [
    "# 13. Evaluation du modèle - Coefficient de détermination"
   ]
  },
  {
   "cell_type": "code",
   "execution_count": 35,
   "id": "5fb4a1e3",
   "metadata": {},
   "outputs": [],
   "source": [
    "def coef_determination(y, pred):\n",
    "    u = ((y - pred)**2).sum()\n",
    "    v = ((y - y.mean())**2).sum()\n",
    "    return 1 - u/v"
   ]
  },
  {
   "cell_type": "code",
   "execution_count": 36,
   "id": "1644c14d",
   "metadata": {},
   "outputs": [
    {
     "name": "stdout",
     "output_type": "stream",
     "text": [
      "Coefficient de détermination de training set =  0.7748746935274642\n"
     ]
    }
   ],
   "source": [
    "cd_train_Reg_Poly = coef_determination(Y_train, model(X_train_norm, theta_final))\n",
    "print(\"Coefficient de détermination de training set = \", cd_train_Reg_Poly)"
   ]
  },
  {
   "cell_type": "code",
   "execution_count": 37,
   "id": "499bb20e",
   "metadata": {},
   "outputs": [
    {
     "name": "stdout",
     "output_type": "stream",
     "text": [
      "Coefficient de détermination de test set =  0.7386750634407196\n"
     ]
    }
   ],
   "source": [
    "cd_test_Reg_Poly = coef_determination(Y_test, model(X_test_norm, theta_final))\n",
    "print(\"Coefficient de détermination de test set = \", cd_test_Reg_Poly)"
   ]
  },
  {
   "cell_type": "markdown",
   "id": "97e0d56a",
   "metadata": {},
   "source": [
    "# 14. L1 Regularization (LASSO)"
   ]
  },
  {
   "cell_type": "code",
   "execution_count": 38,
   "id": "9773dc97",
   "metadata": {},
   "outputs": [],
   "source": [
    "def cost_function_L1(X, y, theta, lambda_):\n",
    "    m = len(y)\n",
    "    h = model(X, theta)\n",
    "    error = h - y\n",
    "    regularization_term = lambda_ * np.sum(np.abs(theta))\n",
    "    cost = (1 / (2 * m)) * np.sum(error ** 2) + regularization_term\n",
    "    return cost\n",
    "\n",
    "def grad_L1(X, y, theta, lambda_):\n",
    "    m = len(y)\n",
    "    h = model(X, theta)\n",
    "    error = h - y\n",
    "    regularization_term = lambda_ * np.sign(theta)\n",
    "    grad = (1 / m) * X.T.dot(error) + regularization_term\n",
    "    return grad\n",
    "\n",
    "def gradient_descent_L1(X, y, theta, lambda_, learning_rate, n_iterations):\n",
    "    cost_history = np.zeros(n_iterations)\n",
    "    for i in range(n_iterations):\n",
    "        theta = theta - learning_rate * grad_L1(X, y, theta, lambda_)\n",
    "        cost_history[i] = cost_function_L1(X, y, theta, lambda_)\n",
    "    return theta, cost_history\n",
    "\n",
    "lambda_L1 = 0.017\n",
    "theta_final_L1, cost_history_L1 = gradient_descent_L1(X_train_norm, Y_train, theta_final.copy(), lambda_L1, learning_rate, n_iterations)"
   ]
  },
  {
   "cell_type": "markdown",
   "id": "40ab52d3",
   "metadata": {},
   "source": [
    "# 15. L2 Regularization (Ridge)\n"
   ]
  },
  {
   "cell_type": "code",
   "execution_count": 39,
   "id": "601a1714",
   "metadata": {},
   "outputs": [],
   "source": [
    "def cost_function_L2(X, y, theta, lambda_):\n",
    "    m = len(y)\n",
    "    h = model(X, theta)\n",
    "    error = h - y\n",
    "    regularization_term = lambda_ * np.sum(theta ** 2)\n",
    "    cost = (1 / (2 * m)) * np.sum(error ** 2) + regularization_term\n",
    "    return cost\n",
    "\n",
    "def grad_L2(X, y, theta, lambda_):\n",
    "    m = len(y)\n",
    "    h = model(X, theta)\n",
    "    error = h - y\n",
    "    regularization_term = lambda_ * theta\n",
    "    grad = (1 / m) * X.T.dot(error) + regularization_term\n",
    "    return grad\n",
    "\n",
    "def gradient_descent_L2(X, y, theta, lambda_, learning_rate, n_iterations):\n",
    "    cost_history = np.zeros(n_iterations)\n",
    "    for i in range(n_iterations):\n",
    "        theta = theta - learning_rate * grad_L2(X, y, theta, lambda_)\n",
    "        cost_history[i] = cost_function_L2(X, y, theta, lambda_)\n",
    "    return theta, cost_history\n",
    "\n",
    "lambda_L2 = 0.017\n",
    "theta_final_L2, cost_history_L2 = gradient_descent_L2(X_train_norm, Y_train, theta_final.copy(), lambda_L2, learning_rate, n_iterations)"
   ]
  },
  {
   "cell_type": "markdown",
   "id": "f8a36c69",
   "metadata": {},
   "source": [
    "# 16. Comparison of Models"
   ]
  },
  {
   "cell_type": "code",
   "execution_count": 40,
   "id": "56290b3a",
   "metadata": {},
   "outputs": [
    {
     "name": "stdout",
     "output_type": "stream",
     "text": [
      "L1 Regularization - Coefficient de détermination de training set = 0.7480830817465434\n",
      "L1 Regularization - Coefficient de détermination de test set = 0.7488567548500061\n",
      "L2 Regularization - Coefficient de détermination de training set = 0.7526575610083174\n",
      "L2 Regularization - Coefficient de détermination de test set = 0.7553297865863385\n"
     ]
    }
   ],
   "source": [
    "# Calculate R-squared for each model\n",
    "cd_train_L1 = coef_determination(Y_train, model(X_train_norm, theta_final_L1))\n",
    "cd_test_L1 = coef_determination(Y_test, model(X_test_norm, theta_final_L1))\n",
    "cd_train_L2 = coef_determination(Y_train, model(X_train_norm, theta_final_L2))\n",
    "cd_test_L2 = coef_determination(Y_test, model(X_test_norm, theta_final_L2))\n",
    "\n",
    "# Print R-squared values\n",
    "print(\"L1 Regularization - Coefficient de détermination de training set =\", cd_train_L1)\n",
    "print(\"L1 Regularization - Coefficient de détermination de test set =\", cd_test_L1)\n",
    "print(\"L2 Regularization - Coefficient de détermination de training set =\", cd_train_L2)\n",
    "print(\"L2 Regularization - Coefficient de détermination de test set =\", cd_test_L2)"
   ]
  }
 ],
 "metadata": {
  "kernelspec": {
   "display_name": "Python 3 (ipykernel)",
   "language": "python",
   "name": "python3"
  },
  "language_info": {
   "codemirror_mode": {
    "name": "ipython",
    "version": 3
   },
   "file_extension": ".py",
   "mimetype": "text/x-python",
   "name": "python",
   "nbconvert_exporter": "python",
   "pygments_lexer": "ipython3",
   "version": "undefined.undefined.undefined"
  }
 },
 "nbformat": 4,
 "nbformat_minor": 5
}
