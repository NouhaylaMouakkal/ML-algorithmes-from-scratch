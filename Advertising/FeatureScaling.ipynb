{
 "cells": [
  {
   "cell_type": "markdown",
   "metadata": {
    "id": "qFUukJ4Pi7cM"
   },
   "source": [
    "# Régression Linéaire Multiple"
   ]
  },
  {
   "cell_type": "markdown",
   "metadata": {
    "id": "mMbYHSuQi7cS"
   },
   "source": [
    "## 1- Préparation du dataset"
   ]
  },
  {
   "cell_type": "markdown",
   "metadata": {
    "id": "DgWByQiii7cS"
   },
   "source": [
    "###  a. Chargement du dataset"
   ]
  },
  {
   "cell_type": "code",
   "execution_count": 2,
   "metadata": {
    "id": "HGSQveTIi7cT",
    "outputId": "b2c4efc7-5886-42ea-8e47-2790ffc13f3b"
   },
   "outputs": [
    {
     "data": {
      "text/html": [
       "<div>\n",
       "<style scoped>\n",
       "    .dataframe tbody tr th:only-of-type {\n",
       "        vertical-align: middle;\n",
       "    }\n",
       "\n",
       "    .dataframe tbody tr th {\n",
       "        vertical-align: top;\n",
       "    }\n",
       "\n",
       "    .dataframe thead th {\n",
       "        text-align: right;\n",
       "    }\n",
       "</style>\n",
       "<table border=\"1\" class=\"dataframe\">\n",
       "  <thead>\n",
       "    <tr style=\"text-align: right;\">\n",
       "      <th></th>\n",
       "      <th>TV</th>\n",
       "      <th>Radio</th>\n",
       "      <th>Newspaper</th>\n",
       "      <th>Sales</th>\n",
       "    </tr>\n",
       "  </thead>\n",
       "  <tbody>\n",
       "    <tr>\n",
       "      <th>0</th>\n",
       "      <td>230.1</td>\n",
       "      <td>37.8</td>\n",
       "      <td>69.2</td>\n",
       "      <td>22.1</td>\n",
       "    </tr>\n",
       "    <tr>\n",
       "      <th>1</th>\n",
       "      <td>44.5</td>\n",
       "      <td>39.3</td>\n",
       "      <td>45.1</td>\n",
       "      <td>10.4</td>\n",
       "    </tr>\n",
       "    <tr>\n",
       "      <th>2</th>\n",
       "      <td>17.2</td>\n",
       "      <td>45.9</td>\n",
       "      <td>69.3</td>\n",
       "      <td>12.0</td>\n",
       "    </tr>\n",
       "    <tr>\n",
       "      <th>3</th>\n",
       "      <td>151.5</td>\n",
       "      <td>41.3</td>\n",
       "      <td>58.5</td>\n",
       "      <td>16.5</td>\n",
       "    </tr>\n",
       "    <tr>\n",
       "      <th>4</th>\n",
       "      <td>180.8</td>\n",
       "      <td>10.8</td>\n",
       "      <td>58.4</td>\n",
       "      <td>17.9</td>\n",
       "    </tr>\n",
       "    <tr>\n",
       "      <th>...</th>\n",
       "      <td>...</td>\n",
       "      <td>...</td>\n",
       "      <td>...</td>\n",
       "      <td>...</td>\n",
       "    </tr>\n",
       "    <tr>\n",
       "      <th>195</th>\n",
       "      <td>38.2</td>\n",
       "      <td>3.7</td>\n",
       "      <td>13.8</td>\n",
       "      <td>7.6</td>\n",
       "    </tr>\n",
       "    <tr>\n",
       "      <th>196</th>\n",
       "      <td>94.2</td>\n",
       "      <td>4.9</td>\n",
       "      <td>8.1</td>\n",
       "      <td>14.0</td>\n",
       "    </tr>\n",
       "    <tr>\n",
       "      <th>197</th>\n",
       "      <td>177.0</td>\n",
       "      <td>9.3</td>\n",
       "      <td>6.4</td>\n",
       "      <td>14.8</td>\n",
       "    </tr>\n",
       "    <tr>\n",
       "      <th>198</th>\n",
       "      <td>283.6</td>\n",
       "      <td>42.0</td>\n",
       "      <td>66.2</td>\n",
       "      <td>25.5</td>\n",
       "    </tr>\n",
       "    <tr>\n",
       "      <th>199</th>\n",
       "      <td>232.1</td>\n",
       "      <td>8.6</td>\n",
       "      <td>8.7</td>\n",
       "      <td>18.4</td>\n",
       "    </tr>\n",
       "  </tbody>\n",
       "</table>\n",
       "<p>200 rows × 4 columns</p>\n",
       "</div>"
      ],
      "text/plain": [
       "        TV  Radio  Newspaper  Sales\n",
       "0    230.1   37.8       69.2   22.1\n",
       "1     44.5   39.3       45.1   10.4\n",
       "2     17.2   45.9       69.3   12.0\n",
       "3    151.5   41.3       58.5   16.5\n",
       "4    180.8   10.8       58.4   17.9\n",
       "..     ...    ...        ...    ...\n",
       "195   38.2    3.7       13.8    7.6\n",
       "196   94.2    4.9        8.1   14.0\n",
       "197  177.0    9.3        6.4   14.8\n",
       "198  283.6   42.0       66.2   25.5\n",
       "199  232.1    8.6        8.7   18.4\n",
       "\n",
       "[200 rows x 4 columns]"
      ]
     },
     "execution_count": 2,
     "metadata": {},
     "output_type": "execute_result"
    }
   ],
   "source": [
    "import pandas as pd\n",
    "import numpy as np\n",
    "import seaborn as sns\n",
    "from matplotlib import pyplot as plt\n",
    "from sklearn.model_selection import train_test_split\n",
    "from sklearn.preprocessing import StandardScaler\n",
    "\n",
    "\n",
    "\n",
    "#chargement du dataset:\n",
    "dataset = pd.read_csv('Advertising.csv')\n",
    "dataset"
   ]
  },
  {
   "cell_type": "code",
   "execution_count": 3,
   "metadata": {},
   "outputs": [
    {
     "data": {
      "text/html": [
       "<div>\n",
       "<style scoped>\n",
       "    .dataframe tbody tr th:only-of-type {\n",
       "        vertical-align: middle;\n",
       "    }\n",
       "\n",
       "    .dataframe tbody tr th {\n",
       "        vertical-align: top;\n",
       "    }\n",
       "\n",
       "    .dataframe thead th {\n",
       "        text-align: right;\n",
       "    }\n",
       "</style>\n",
       "<table border=\"1\" class=\"dataframe\">\n",
       "  <thead>\n",
       "    <tr style=\"text-align: right;\">\n",
       "      <th></th>\n",
       "      <th>TV</th>\n",
       "      <th>Radio</th>\n",
       "      <th>Newspaper</th>\n",
       "      <th>Sales</th>\n",
       "    </tr>\n",
       "  </thead>\n",
       "  <tbody>\n",
       "    <tr>\n",
       "      <th>count</th>\n",
       "      <td>200.000000</td>\n",
       "      <td>200.000000</td>\n",
       "      <td>200.000000</td>\n",
       "      <td>200.000000</td>\n",
       "    </tr>\n",
       "    <tr>\n",
       "      <th>mean</th>\n",
       "      <td>147.042500</td>\n",
       "      <td>23.264000</td>\n",
       "      <td>30.554000</td>\n",
       "      <td>15.130500</td>\n",
       "    </tr>\n",
       "    <tr>\n",
       "      <th>std</th>\n",
       "      <td>85.854236</td>\n",
       "      <td>14.846809</td>\n",
       "      <td>21.778621</td>\n",
       "      <td>5.283892</td>\n",
       "    </tr>\n",
       "    <tr>\n",
       "      <th>min</th>\n",
       "      <td>0.700000</td>\n",
       "      <td>0.000000</td>\n",
       "      <td>0.300000</td>\n",
       "      <td>1.600000</td>\n",
       "    </tr>\n",
       "    <tr>\n",
       "      <th>25%</th>\n",
       "      <td>74.375000</td>\n",
       "      <td>9.975000</td>\n",
       "      <td>12.750000</td>\n",
       "      <td>11.000000</td>\n",
       "    </tr>\n",
       "    <tr>\n",
       "      <th>50%</th>\n",
       "      <td>149.750000</td>\n",
       "      <td>22.900000</td>\n",
       "      <td>25.750000</td>\n",
       "      <td>16.000000</td>\n",
       "    </tr>\n",
       "    <tr>\n",
       "      <th>75%</th>\n",
       "      <td>218.825000</td>\n",
       "      <td>36.525000</td>\n",
       "      <td>45.100000</td>\n",
       "      <td>19.050000</td>\n",
       "    </tr>\n",
       "    <tr>\n",
       "      <th>max</th>\n",
       "      <td>296.400000</td>\n",
       "      <td>49.600000</td>\n",
       "      <td>114.000000</td>\n",
       "      <td>27.000000</td>\n",
       "    </tr>\n",
       "  </tbody>\n",
       "</table>\n",
       "</div>"
      ],
      "text/plain": [
       "               TV       Radio   Newspaper       Sales\n",
       "count  200.000000  200.000000  200.000000  200.000000\n",
       "mean   147.042500   23.264000   30.554000   15.130500\n",
       "std     85.854236   14.846809   21.778621    5.283892\n",
       "min      0.700000    0.000000    0.300000    1.600000\n",
       "25%     74.375000    9.975000   12.750000   11.000000\n",
       "50%    149.750000   22.900000   25.750000   16.000000\n",
       "75%    218.825000   36.525000   45.100000   19.050000\n",
       "max    296.400000   49.600000  114.000000   27.000000"
      ]
     },
     "execution_count": 3,
     "metadata": {},
     "output_type": "execute_result"
    }
   ],
   "source": [
    "dataset.describe()"
   ]
  },
  {
   "cell_type": "code",
   "execution_count": 4,
   "metadata": {
    "id": "HcSZdEini7cY",
    "outputId": "6962aa54-9b93-4a9a-bb71-0b1cc58b19aa"
   },
   "outputs": [
    {
     "data": {
      "text/plain": [
       "0"
      ]
     },
     "execution_count": 4,
     "metadata": {},
     "output_type": "execute_result"
    }
   ],
   "source": [
    "#chercher les valeurs nulls:\n",
    "\n",
    "dataset.isnull().values.sum()"
   ]
  },
  {
   "cell_type": "code",
   "execution_count": 5,
   "metadata": {
    "id": "Q0fO9od6i7cZ",
    "outputId": "54696393-8bfb-4b6d-c537-6dee16aefcc3"
   },
   "outputs": [
    {
     "data": {
      "text/plain": [
       "0"
      ]
     },
     "execution_count": 5,
     "metadata": {},
     "output_type": "execute_result"
    }
   ],
   "source": [
    "#suppression des valeurs nulls:\n",
    "dataset.dropna(axis=0, how='any', inplace=True)\n",
    "dataset.isnull().values.sum()"
   ]
  },
  {
   "cell_type": "markdown",
   "metadata": {
    "id": "u6PnSOQii7cZ"
   },
   "source": [
    "### c- Séparation des colonnes en target et features"
   ]
  },
  {
   "cell_type": "code",
   "execution_count": 6,
   "metadata": {
    "id": "qSZKiQChi7ca",
    "outputId": "ca4b8b70-9b95-45e0-eca7-379376177760"
   },
   "outputs": [
    {
     "data": {
      "text/html": [
       "<div>\n",
       "<style scoped>\n",
       "    .dataframe tbody tr th:only-of-type {\n",
       "        vertical-align: middle;\n",
       "    }\n",
       "\n",
       "    .dataframe tbody tr th {\n",
       "        vertical-align: top;\n",
       "    }\n",
       "\n",
       "    .dataframe thead th {\n",
       "        text-align: right;\n",
       "    }\n",
       "</style>\n",
       "<table border=\"1\" class=\"dataframe\">\n",
       "  <thead>\n",
       "    <tr style=\"text-align: right;\">\n",
       "      <th></th>\n",
       "      <th>TV</th>\n",
       "      <th>Radio</th>\n",
       "      <th>Newspaper</th>\n",
       "    </tr>\n",
       "  </thead>\n",
       "  <tbody>\n",
       "    <tr>\n",
       "      <th>0</th>\n",
       "      <td>230.1</td>\n",
       "      <td>37.8</td>\n",
       "      <td>69.2</td>\n",
       "    </tr>\n",
       "    <tr>\n",
       "      <th>1</th>\n",
       "      <td>44.5</td>\n",
       "      <td>39.3</td>\n",
       "      <td>45.1</td>\n",
       "    </tr>\n",
       "    <tr>\n",
       "      <th>2</th>\n",
       "      <td>17.2</td>\n",
       "      <td>45.9</td>\n",
       "      <td>69.3</td>\n",
       "    </tr>\n",
       "    <tr>\n",
       "      <th>3</th>\n",
       "      <td>151.5</td>\n",
       "      <td>41.3</td>\n",
       "      <td>58.5</td>\n",
       "    </tr>\n",
       "    <tr>\n",
       "      <th>4</th>\n",
       "      <td>180.8</td>\n",
       "      <td>10.8</td>\n",
       "      <td>58.4</td>\n",
       "    </tr>\n",
       "  </tbody>\n",
       "</table>\n",
       "</div>"
      ],
      "text/plain": [
       "      TV  Radio  Newspaper\n",
       "0  230.1   37.8       69.2\n",
       "1   44.5   39.3       45.1\n",
       "2   17.2   45.9       69.3\n",
       "3  151.5   41.3       58.5\n",
       "4  180.8   10.8       58.4"
      ]
     },
     "execution_count": 6,
     "metadata": {},
     "output_type": "execute_result"
    }
   ],
   "source": [
    "#séparation des variables \"features\" et \"target\":\n",
    "\n",
    "features = dataset[dataset.iloc[:, :3].columns.tolist()]\n",
    "features.head()"
   ]
  },
  {
   "cell_type": "code",
   "execution_count": 7,
   "metadata": {},
   "outputs": [
    {
     "data": {
      "text/html": [
       "<div>\n",
       "<style scoped>\n",
       "    .dataframe tbody tr th:only-of-type {\n",
       "        vertical-align: middle;\n",
       "    }\n",
       "\n",
       "    .dataframe tbody tr th {\n",
       "        vertical-align: top;\n",
       "    }\n",
       "\n",
       "    .dataframe thead th {\n",
       "        text-align: right;\n",
       "    }\n",
       "</style>\n",
       "<table border=\"1\" class=\"dataframe\">\n",
       "  <thead>\n",
       "    <tr style=\"text-align: right;\">\n",
       "      <th></th>\n",
       "      <th>TV</th>\n",
       "      <th>Radio</th>\n",
       "      <th>Newspaper</th>\n",
       "    </tr>\n",
       "  </thead>\n",
       "  <tbody>\n",
       "    <tr>\n",
       "      <th>count</th>\n",
       "      <td>200.000000</td>\n",
       "      <td>200.000000</td>\n",
       "      <td>200.000000</td>\n",
       "    </tr>\n",
       "    <tr>\n",
       "      <th>mean</th>\n",
       "      <td>147.042500</td>\n",
       "      <td>23.264000</td>\n",
       "      <td>30.554000</td>\n",
       "    </tr>\n",
       "    <tr>\n",
       "      <th>std</th>\n",
       "      <td>85.854236</td>\n",
       "      <td>14.846809</td>\n",
       "      <td>21.778621</td>\n",
       "    </tr>\n",
       "    <tr>\n",
       "      <th>min</th>\n",
       "      <td>0.700000</td>\n",
       "      <td>0.000000</td>\n",
       "      <td>0.300000</td>\n",
       "    </tr>\n",
       "    <tr>\n",
       "      <th>25%</th>\n",
       "      <td>74.375000</td>\n",
       "      <td>9.975000</td>\n",
       "      <td>12.750000</td>\n",
       "    </tr>\n",
       "    <tr>\n",
       "      <th>50%</th>\n",
       "      <td>149.750000</td>\n",
       "      <td>22.900000</td>\n",
       "      <td>25.750000</td>\n",
       "    </tr>\n",
       "    <tr>\n",
       "      <th>75%</th>\n",
       "      <td>218.825000</td>\n",
       "      <td>36.525000</td>\n",
       "      <td>45.100000</td>\n",
       "    </tr>\n",
       "    <tr>\n",
       "      <th>max</th>\n",
       "      <td>296.400000</td>\n",
       "      <td>49.600000</td>\n",
       "      <td>114.000000</td>\n",
       "    </tr>\n",
       "  </tbody>\n",
       "</table>\n",
       "</div>"
      ],
      "text/plain": [
       "               TV       Radio   Newspaper\n",
       "count  200.000000  200.000000  200.000000\n",
       "mean   147.042500   23.264000   30.554000\n",
       "std     85.854236   14.846809   21.778621\n",
       "min      0.700000    0.000000    0.300000\n",
       "25%     74.375000    9.975000   12.750000\n",
       "50%    149.750000   22.900000   25.750000\n",
       "75%    218.825000   36.525000   45.100000\n",
       "max    296.400000   49.600000  114.000000"
      ]
     },
     "execution_count": 7,
     "metadata": {},
     "output_type": "execute_result"
    }
   ],
   "source": [
    "features.describe()"
   ]
  },
  {
   "cell_type": "code",
   "execution_count": 8,
   "metadata": {
    "id": "PSZXn6k8i7cb",
    "outputId": "7b53da22-590a-4ef6-bf4a-507f433a60f5"
   },
   "outputs": [
    {
     "data": {
      "text/html": [
       "<div>\n",
       "<style scoped>\n",
       "    .dataframe tbody tr th:only-of-type {\n",
       "        vertical-align: middle;\n",
       "    }\n",
       "\n",
       "    .dataframe tbody tr th {\n",
       "        vertical-align: top;\n",
       "    }\n",
       "\n",
       "    .dataframe thead th {\n",
       "        text-align: right;\n",
       "    }\n",
       "</style>\n",
       "<table border=\"1\" class=\"dataframe\">\n",
       "  <thead>\n",
       "    <tr style=\"text-align: right;\">\n",
       "      <th></th>\n",
       "      <th>Sales</th>\n",
       "    </tr>\n",
       "  </thead>\n",
       "  <tbody>\n",
       "    <tr>\n",
       "      <th>0</th>\n",
       "      <td>22.1</td>\n",
       "    </tr>\n",
       "    <tr>\n",
       "      <th>1</th>\n",
       "      <td>10.4</td>\n",
       "    </tr>\n",
       "    <tr>\n",
       "      <th>2</th>\n",
       "      <td>12.0</td>\n",
       "    </tr>\n",
       "    <tr>\n",
       "      <th>3</th>\n",
       "      <td>16.5</td>\n",
       "    </tr>\n",
       "    <tr>\n",
       "      <th>4</th>\n",
       "      <td>17.9</td>\n",
       "    </tr>\n",
       "  </tbody>\n",
       "</table>\n",
       "</div>"
      ],
      "text/plain": [
       "   Sales\n",
       "0   22.1\n",
       "1   10.4\n",
       "2   12.0\n",
       "3   16.5\n",
       "4   17.9"
      ]
     },
     "execution_count": 8,
     "metadata": {},
     "output_type": "execute_result"
    }
   ],
   "source": [
    "target = dataset[[dataset.iloc[:, 3].name]]\n",
    "target.head()"
   ]
  },
  {
   "cell_type": "markdown",
   "metadata": {},
   "source": [
    "### d- Division des features et target en jeu de test et jeu de d'entrainement"
   ]
  },
  {
   "cell_type": "code",
   "execution_count": 9,
   "metadata": {},
   "outputs": [
    {
     "name": "stdout",
     "output_type": "stream",
     "text": [
      "x_train shape  :  (160, 3)\n",
      "x_test shape  :  (40, 3)\n",
      "y_train shape  :  (160, 1)\n",
      "y_test shape  :  (40, 1)\n"
     ]
    }
   ],
   "source": [
    "x_train, x_test, y_train, y_test =  train_test_split(features, target, test_size=0.2, random_state=42)\n",
    "\n",
    "print('x_train shape  : ', x_train.shape)\n",
    "print('x_test shape  : ', x_test.shape)\n",
    "print('y_train shape  : ', y_train.shape)\n",
    "print('y_test shape  : ', y_test.shape)"
   ]
  },
  {
   "cell_type": "code",
   "execution_count": 10,
   "metadata": {},
   "outputs": [
    {
     "data": {
      "text/html": [
       "<div>\n",
       "<style scoped>\n",
       "    .dataframe tbody tr th:only-of-type {\n",
       "        vertical-align: middle;\n",
       "    }\n",
       "\n",
       "    .dataframe tbody tr th {\n",
       "        vertical-align: top;\n",
       "    }\n",
       "\n",
       "    .dataframe thead th {\n",
       "        text-align: right;\n",
       "    }\n",
       "</style>\n",
       "<table border=\"1\" class=\"dataframe\">\n",
       "  <thead>\n",
       "    <tr style=\"text-align: right;\">\n",
       "      <th></th>\n",
       "      <th>TV</th>\n",
       "      <th>Radio</th>\n",
       "      <th>Newspaper</th>\n",
       "    </tr>\n",
       "  </thead>\n",
       "  <tbody>\n",
       "    <tr>\n",
       "      <th>79</th>\n",
       "      <td>116.0</td>\n",
       "      <td>7.7</td>\n",
       "      <td>23.1</td>\n",
       "    </tr>\n",
       "    <tr>\n",
       "      <th>197</th>\n",
       "      <td>177.0</td>\n",
       "      <td>9.3</td>\n",
       "      <td>6.4</td>\n",
       "    </tr>\n",
       "    <tr>\n",
       "      <th>38</th>\n",
       "      <td>43.1</td>\n",
       "      <td>26.7</td>\n",
       "      <td>35.1</td>\n",
       "    </tr>\n",
       "    <tr>\n",
       "      <th>24</th>\n",
       "      <td>62.3</td>\n",
       "      <td>12.6</td>\n",
       "      <td>18.3</td>\n",
       "    </tr>\n",
       "    <tr>\n",
       "      <th>122</th>\n",
       "      <td>224.0</td>\n",
       "      <td>2.4</td>\n",
       "      <td>15.6</td>\n",
       "    </tr>\n",
       "  </tbody>\n",
       "</table>\n",
       "</div>"
      ],
      "text/plain": [
       "        TV  Radio  Newspaper\n",
       "79   116.0    7.7       23.1\n",
       "197  177.0    9.3        6.4\n",
       "38    43.1   26.7       35.1\n",
       "24    62.3   12.6       18.3\n",
       "122  224.0    2.4       15.6"
      ]
     },
     "execution_count": 10,
     "metadata": {},
     "output_type": "execute_result"
    }
   ],
   "source": [
    "x_train.head()"
   ]
  },
  {
   "cell_type": "code",
   "execution_count": 11,
   "metadata": {},
   "outputs": [
    {
     "data": {
      "text/html": [
       "<div>\n",
       "<style scoped>\n",
       "    .dataframe tbody tr th:only-of-type {\n",
       "        vertical-align: middle;\n",
       "    }\n",
       "\n",
       "    .dataframe tbody tr th {\n",
       "        vertical-align: top;\n",
       "    }\n",
       "\n",
       "    .dataframe thead th {\n",
       "        text-align: right;\n",
       "    }\n",
       "</style>\n",
       "<table border=\"1\" class=\"dataframe\">\n",
       "  <thead>\n",
       "    <tr style=\"text-align: right;\">\n",
       "      <th></th>\n",
       "      <th>TV</th>\n",
       "      <th>Radio</th>\n",
       "      <th>Newspaper</th>\n",
       "    </tr>\n",
       "  </thead>\n",
       "  <tbody>\n",
       "    <tr>\n",
       "      <th>count</th>\n",
       "      <td>160.000000</td>\n",
       "      <td>160.000000</td>\n",
       "      <td>160.000000</td>\n",
       "    </tr>\n",
       "    <tr>\n",
       "      <th>mean</th>\n",
       "      <td>150.019375</td>\n",
       "      <td>22.875625</td>\n",
       "      <td>29.945625</td>\n",
       "    </tr>\n",
       "    <tr>\n",
       "      <th>std</th>\n",
       "      <td>84.418857</td>\n",
       "      <td>14.805216</td>\n",
       "      <td>20.336449</td>\n",
       "    </tr>\n",
       "    <tr>\n",
       "      <th>min</th>\n",
       "      <td>0.700000</td>\n",
       "      <td>0.000000</td>\n",
       "      <td>0.300000</td>\n",
       "    </tr>\n",
       "    <tr>\n",
       "      <th>25%</th>\n",
       "      <td>77.750000</td>\n",
       "      <td>9.825000</td>\n",
       "      <td>12.875000</td>\n",
       "    </tr>\n",
       "    <tr>\n",
       "      <th>50%</th>\n",
       "      <td>150.650000</td>\n",
       "      <td>21.200000</td>\n",
       "      <td>25.600000</td>\n",
       "    </tr>\n",
       "    <tr>\n",
       "      <th>75%</th>\n",
       "      <td>218.825000</td>\n",
       "      <td>36.425000</td>\n",
       "      <td>44.500000</td>\n",
       "    </tr>\n",
       "    <tr>\n",
       "      <th>max</th>\n",
       "      <td>296.400000</td>\n",
       "      <td>49.600000</td>\n",
       "      <td>100.900000</td>\n",
       "    </tr>\n",
       "  </tbody>\n",
       "</table>\n",
       "</div>"
      ],
      "text/plain": [
       "               TV       Radio   Newspaper\n",
       "count  160.000000  160.000000  160.000000\n",
       "mean   150.019375   22.875625   29.945625\n",
       "std     84.418857   14.805216   20.336449\n",
       "min      0.700000    0.000000    0.300000\n",
       "25%     77.750000    9.825000   12.875000\n",
       "50%    150.650000   21.200000   25.600000\n",
       "75%    218.825000   36.425000   44.500000\n",
       "max    296.400000   49.600000  100.900000"
      ]
     },
     "execution_count": 11,
     "metadata": {},
     "output_type": "execute_result"
    }
   ],
   "source": [
    "x_train.describe()"
   ]
  },
  {
   "cell_type": "code",
   "execution_count": 12,
   "metadata": {},
   "outputs": [
    {
     "data": {
      "text/html": [
       "<div>\n",
       "<style scoped>\n",
       "    .dataframe tbody tr th:only-of-type {\n",
       "        vertical-align: middle;\n",
       "    }\n",
       "\n",
       "    .dataframe tbody tr th {\n",
       "        vertical-align: top;\n",
       "    }\n",
       "\n",
       "    .dataframe thead th {\n",
       "        text-align: right;\n",
       "    }\n",
       "</style>\n",
       "<table border=\"1\" class=\"dataframe\">\n",
       "  <thead>\n",
       "    <tr style=\"text-align: right;\">\n",
       "      <th></th>\n",
       "      <th>TV</th>\n",
       "      <th>Radio</th>\n",
       "      <th>Newspaper</th>\n",
       "    </tr>\n",
       "  </thead>\n",
       "  <tbody>\n",
       "    <tr>\n",
       "      <th>95</th>\n",
       "      <td>163.3</td>\n",
       "      <td>31.6</td>\n",
       "      <td>52.9</td>\n",
       "    </tr>\n",
       "    <tr>\n",
       "      <th>15</th>\n",
       "      <td>195.4</td>\n",
       "      <td>47.7</td>\n",
       "      <td>52.9</td>\n",
       "    </tr>\n",
       "    <tr>\n",
       "      <th>30</th>\n",
       "      <td>292.9</td>\n",
       "      <td>28.3</td>\n",
       "      <td>43.2</td>\n",
       "    </tr>\n",
       "    <tr>\n",
       "      <th>158</th>\n",
       "      <td>11.7</td>\n",
       "      <td>36.9</td>\n",
       "      <td>45.2</td>\n",
       "    </tr>\n",
       "    <tr>\n",
       "      <th>128</th>\n",
       "      <td>220.3</td>\n",
       "      <td>49.0</td>\n",
       "      <td>3.2</td>\n",
       "    </tr>\n",
       "  </tbody>\n",
       "</table>\n",
       "</div>"
      ],
      "text/plain": [
       "        TV  Radio  Newspaper\n",
       "95   163.3   31.6       52.9\n",
       "15   195.4   47.7       52.9\n",
       "30   292.9   28.3       43.2\n",
       "158   11.7   36.9       45.2\n",
       "128  220.3   49.0        3.2"
      ]
     },
     "execution_count": 12,
     "metadata": {},
     "output_type": "execute_result"
    }
   ],
   "source": [
    "x_test.head()"
   ]
  },
  {
   "cell_type": "code",
   "execution_count": 13,
   "metadata": {},
   "outputs": [
    {
     "data": {
      "text/plain": [
       "TV           150.019375\n",
       "Radio         22.875625\n",
       "Newspaper     29.945625\n",
       "dtype: float64"
      ]
     },
     "execution_count": 13,
     "metadata": {},
     "output_type": "execute_result"
    }
   ],
   "source": [
    "x_train.mean()"
   ]
  },
  {
   "cell_type": "code",
   "execution_count": 14,
   "metadata": {},
   "outputs": [
    {
     "data": {
      "text/html": [
       "<div>\n",
       "<style scoped>\n",
       "    .dataframe tbody tr th:only-of-type {\n",
       "        vertical-align: middle;\n",
       "    }\n",
       "\n",
       "    .dataframe tbody tr th {\n",
       "        vertical-align: top;\n",
       "    }\n",
       "\n",
       "    .dataframe thead th {\n",
       "        text-align: right;\n",
       "    }\n",
       "</style>\n",
       "<table border=\"1\" class=\"dataframe\">\n",
       "  <thead>\n",
       "    <tr style=\"text-align: right;\">\n",
       "      <th></th>\n",
       "      <th>Sales</th>\n",
       "    </tr>\n",
       "  </thead>\n",
       "  <tbody>\n",
       "    <tr>\n",
       "      <th>79</th>\n",
       "      <td>11.0</td>\n",
       "    </tr>\n",
       "    <tr>\n",
       "      <th>197</th>\n",
       "      <td>14.8</td>\n",
       "    </tr>\n",
       "    <tr>\n",
       "      <th>38</th>\n",
       "      <td>10.1</td>\n",
       "    </tr>\n",
       "    <tr>\n",
       "      <th>24</th>\n",
       "      <td>9.7</td>\n",
       "    </tr>\n",
       "    <tr>\n",
       "      <th>122</th>\n",
       "      <td>16.6</td>\n",
       "    </tr>\n",
       "  </tbody>\n",
       "</table>\n",
       "</div>"
      ],
      "text/plain": [
       "     Sales\n",
       "79    11.0\n",
       "197   14.8\n",
       "38    10.1\n",
       "24     9.7\n",
       "122   16.6"
      ]
     },
     "execution_count": 14,
     "metadata": {},
     "output_type": "execute_result"
    }
   ],
   "source": [
    "y_train.head()"
   ]
  },
  {
   "cell_type": "code",
   "execution_count": 15,
   "metadata": {},
   "outputs": [
    {
     "data": {
      "text/html": [
       "<div>\n",
       "<style scoped>\n",
       "    .dataframe tbody tr th:only-of-type {\n",
       "        vertical-align: middle;\n",
       "    }\n",
       "\n",
       "    .dataframe tbody tr th {\n",
       "        vertical-align: top;\n",
       "    }\n",
       "\n",
       "    .dataframe thead th {\n",
       "        text-align: right;\n",
       "    }\n",
       "</style>\n",
       "<table border=\"1\" class=\"dataframe\">\n",
       "  <thead>\n",
       "    <tr style=\"text-align: right;\">\n",
       "      <th></th>\n",
       "      <th>Sales</th>\n",
       "    </tr>\n",
       "  </thead>\n",
       "  <tbody>\n",
       "    <tr>\n",
       "      <th>95</th>\n",
       "      <td>16.9</td>\n",
       "    </tr>\n",
       "    <tr>\n",
       "      <th>15</th>\n",
       "      <td>22.4</td>\n",
       "    </tr>\n",
       "    <tr>\n",
       "      <th>30</th>\n",
       "      <td>21.4</td>\n",
       "    </tr>\n",
       "    <tr>\n",
       "      <th>158</th>\n",
       "      <td>7.3</td>\n",
       "    </tr>\n",
       "    <tr>\n",
       "      <th>128</th>\n",
       "      <td>24.7</td>\n",
       "    </tr>\n",
       "  </tbody>\n",
       "</table>\n",
       "</div>"
      ],
      "text/plain": [
       "     Sales\n",
       "95    16.9\n",
       "15    22.4\n",
       "30    21.4\n",
       "158    7.3\n",
       "128   24.7"
      ]
     },
     "execution_count": 15,
     "metadata": {},
     "output_type": "execute_result"
    }
   ],
   "source": [
    "y_test.head()"
   ]
  },
  {
   "cell_type": "markdown",
   "metadata": {
    "id": "G6U4R9KLi7cb"
   },
   "source": [
    "### e- Normalisation des features\n",
    "Normaliser les features pour qu'ils varient sur une même échelle. Il y a trois techniques pour la normalisation:<br>\n",
    "1. La mise à l'échelle des caractéristiques consiste essentiellement à diviser chaque caractéristique positive par sa valeur maximale, ou plus généralement, à rééchelonner chaque caractéristique en utilisant la formule **(x-min)/(max-min)**, où x est la valeur de la caractéristique. Les deux méthodes normalisent les caractéristiques dans la plage de 0 à 1, la première méthode étant adaptée aux caractéristiques positives, et la seconde méthode étant applicable à toutes les caractéristiques.<br><br>\n",
    "2. **La normalisation par la moyenne**, également appelée centration des données, est une technique de mise à l'échelle des caractéristiques. Elle consiste à soustraire la moyenne de chaque valeur de caractéristique, de sorte que les données aient une moyenne égale à zéro. Mathématiquement, cela peut être exprimé comme suit pour une caractéristique \n",
    "\n",
    " $x_i := \\dfrac{x_i - \\mu_i}{max - min} $ <br> <br>\n",
    "3. **La normalisation Z-score**, également appelée standardisation, est une méthode de mise à l'échelle des caractéristiques. Elle consiste à transformer les données de telle sorte qu'elles aient une moyenne de 0 et un écart type de 1. Mathématiquement, pour une caractéristique x, la normalisation Z-score est calculée comme suit :\n",
    "\n",
    "$$x^{(i)}_j = \\dfrac{x^{(i)}_j - \\mu_j}{\\sigma_j} \\tag{4}$$ <br>\n",
    "\n",
    "où $j$ séléctionne une caractéristique ou une colonne de la matrice $\\mathbf{X}$. $µ_j$ est la moyenne de toutes les valeurs de la caractéristique (j) et $\\sigma_j$ est la déviation standard de la caractéristique (j).\n",
    "$$\n",
    "\\begin{align}\n",
    "\\mu_j &= \\frac{1}{m} \\sum_{i=0}^{m-1} x^{(i)}_j \\tag{5}\\\\\n",
    "\\sigma^2_j &= \\frac{1}{m} \\sum_{i=0}^{m-1} (x^{(i)}_j - \\mu_j)^2  \\tag{6}\n",
    "\\end{align}\n",
    "$$"
   ]
  },
  {
   "cell_type": "code",
   "execution_count": 16,
   "metadata": {},
   "outputs": [],
   "source": [
    "def z_score_normalization(data):\n",
    "    \"\"\"\n",
    "    Normalise les caractéristiques d'un ensemble de données en utilisant la méthode Z-score.\n",
    "\n",
    "    Args:\n",
    "    - data : un tableau NumPy contenant les données à normaliser. Chaque colonne représente une caractéristique.\n",
    "\n",
    "    Returns:\n",
    "    - data_normalized : le tableau NumPy contenant les données normalisées.\n",
    "    - mean : le tableau NumPy contenant les moyennes de chaque caractéristique avant normalisation.\n",
    "    - std : le tableau NumPy contenant les déviations standard de chaque caractéristique avant normalisation.\n",
    "    \"\"\"\n",
    "    # Calcul des moyennes et des déviations standard de chaque caractéristique\n",
    "    mean = np.mean(data, axis=0)\n",
    "    std = np.std(data, axis=0)\n",
    "\n",
    "    # Normalisation des données en utilisant la méthode Z-score\n",
    "    data_normalized = (data - mean) / std\n",
    "\n",
    "    return data_normalized, mean, std"
   ]
  },
  {
   "cell_type": "code",
   "execution_count": 17,
   "metadata": {},
   "outputs": [
    {
     "data": {
      "text/html": [
       "<div>\n",
       "<style scoped>\n",
       "    .dataframe tbody tr th:only-of-type {\n",
       "        vertical-align: middle;\n",
       "    }\n",
       "\n",
       "    .dataframe tbody tr th {\n",
       "        vertical-align: top;\n",
       "    }\n",
       "\n",
       "    .dataframe thead th {\n",
       "        text-align: right;\n",
       "    }\n",
       "</style>\n",
       "<table border=\"1\" class=\"dataframe\">\n",
       "  <thead>\n",
       "    <tr style=\"text-align: right;\">\n",
       "      <th></th>\n",
       "      <th>TV</th>\n",
       "      <th>Radio</th>\n",
       "      <th>Newspaper</th>\n",
       "    </tr>\n",
       "  </thead>\n",
       "  <tbody>\n",
       "    <tr>\n",
       "      <th>79</th>\n",
       "      <td>-0.404248</td>\n",
       "      <td>-1.028237</td>\n",
       "      <td>-0.337675</td>\n",
       "    </tr>\n",
       "    <tr>\n",
       "      <th>197</th>\n",
       "      <td>0.320608</td>\n",
       "      <td>-0.919828</td>\n",
       "      <td>-1.161439</td>\n",
       "    </tr>\n",
       "    <tr>\n",
       "      <th>38</th>\n",
       "      <td>-1.270511</td>\n",
       "      <td>0.259124</td>\n",
       "      <td>0.254251</td>\n",
       "    </tr>\n",
       "    <tr>\n",
       "      <th>24</th>\n",
       "      <td>-1.042359</td>\n",
       "      <td>-0.696233</td>\n",
       "      <td>-0.574446</td>\n",
       "    </tr>\n",
       "    <tr>\n",
       "      <th>122</th>\n",
       "      <td>0.879103</td>\n",
       "      <td>-1.387343</td>\n",
       "      <td>-0.707629</td>\n",
       "    </tr>\n",
       "    <tr>\n",
       "      <th>...</th>\n",
       "      <td>...</td>\n",
       "      <td>...</td>\n",
       "      <td>...</td>\n",
       "    </tr>\n",
       "    <tr>\n",
       "      <th>106</th>\n",
       "      <td>-1.485591</td>\n",
       "      <td>-0.804643</td>\n",
       "      <td>-0.012116</td>\n",
       "    </tr>\n",
       "    <tr>\n",
       "      <th>14</th>\n",
       "      <td>0.642634</td>\n",
       "      <td>0.679210</td>\n",
       "      <td>0.791917</td>\n",
       "    </tr>\n",
       "    <tr>\n",
       "      <th>92</th>\n",
       "      <td>0.804241</td>\n",
       "      <td>0.719863</td>\n",
       "      <td>1.433170</td>\n",
       "    </tr>\n",
       "    <tr>\n",
       "      <th>179</th>\n",
       "      <td>0.185143</td>\n",
       "      <td>-0.872399</td>\n",
       "      <td>-0.608975</td>\n",
       "    </tr>\n",
       "    <tr>\n",
       "      <th>102</th>\n",
       "      <td>1.546922</td>\n",
       "      <td>-0.865623</td>\n",
       "      <td>-0.421532</td>\n",
       "    </tr>\n",
       "  </tbody>\n",
       "</table>\n",
       "<p>160 rows × 3 columns</p>\n",
       "</div>"
      ],
      "text/plain": [
       "           TV     Radio  Newspaper\n",
       "79  -0.404248 -1.028237  -0.337675\n",
       "197  0.320608 -0.919828  -1.161439\n",
       "38  -1.270511  0.259124   0.254251\n",
       "24  -1.042359 -0.696233  -0.574446\n",
       "122  0.879103 -1.387343  -0.707629\n",
       "..        ...       ...        ...\n",
       "106 -1.485591 -0.804643  -0.012116\n",
       "14   0.642634  0.679210   0.791917\n",
       "92   0.804241  0.719863   1.433170\n",
       "179  0.185143 -0.872399  -0.608975\n",
       "102  1.546922 -0.865623  -0.421532\n",
       "\n",
       "[160 rows x 3 columns]"
      ]
     },
     "execution_count": 17,
     "metadata": {},
     "output_type": "execute_result"
    }
   ],
   "source": [
    "x_train_norm, mean,std=z_score_normalization(x_train)\n",
    "x_train_norm\n",
    "#x_train_norm= (x_train - x_train.mean())/x_train.std()"
   ]
  },
  {
   "cell_type": "code",
   "execution_count": 18,
   "metadata": {},
   "outputs": [
    {
     "data": {
      "text/plain": [
       "TV          -2.942091e-16\n",
       "Radio       -2.081668e-16\n",
       "Newspaper    1.665335e-17\n",
       "dtype: float64"
      ]
     },
     "execution_count": 18,
     "metadata": {},
     "output_type": "execute_result"
    }
   ],
   "source": [
    "x_train_norm.mean()"
   ]
  },
  {
   "cell_type": "code",
   "execution_count": 19,
   "metadata": {},
   "outputs": [
    {
     "data": {
      "text/plain": [
       "TV           1.00314\n",
       "Radio        1.00314\n",
       "Newspaper    1.00314\n",
       "dtype: float64"
      ]
     },
     "execution_count": 19,
     "metadata": {},
     "output_type": "execute_result"
    }
   ],
   "source": [
    "x_train_norm.std()"
   ]
  },
  {
   "cell_type": "code",
   "execution_count": 20,
   "metadata": {},
   "outputs": [
    {
     "data": {
      "text/plain": [
       "TV           150.019375\n",
       "Radio         22.875625\n",
       "Newspaper     29.945625\n",
       "dtype: float64"
      ]
     },
     "execution_count": 20,
     "metadata": {},
     "output_type": "execute_result"
    }
   ],
   "source": [
    "mean\n"
   ]
  },
  {
   "cell_type": "code",
   "execution_count": 21,
   "metadata": {},
   "outputs": [
    {
     "data": {
      "text/plain": [
       "TV           84.154634\n",
       "Radio        14.758878\n",
       "Newspaper    20.272798\n",
       "dtype: float64"
      ]
     },
     "execution_count": 21,
     "metadata": {},
     "output_type": "execute_result"
    }
   ],
   "source": [
    "std"
   ]
  },
  {
   "cell_type": "code",
   "execution_count": 22,
   "metadata": {},
   "outputs": [
    {
     "data": {
      "text/html": [
       "<div>\n",
       "<style scoped>\n",
       "    .dataframe tbody tr th:only-of-type {\n",
       "        vertical-align: middle;\n",
       "    }\n",
       "\n",
       "    .dataframe tbody tr th {\n",
       "        vertical-align: top;\n",
       "    }\n",
       "\n",
       "    .dataframe thead th {\n",
       "        text-align: right;\n",
       "    }\n",
       "</style>\n",
       "<table border=\"1\" class=\"dataframe\">\n",
       "  <thead>\n",
       "    <tr style=\"text-align: right;\">\n",
       "      <th></th>\n",
       "      <th>TV</th>\n",
       "      <th>Radio</th>\n",
       "      <th>Newspaper</th>\n",
       "    </tr>\n",
       "  </thead>\n",
       "  <tbody>\n",
       "    <tr>\n",
       "      <th>95</th>\n",
       "      <td>0.157812</td>\n",
       "      <td>0.591127</td>\n",
       "      <td>1.132275</td>\n",
       "    </tr>\n",
       "    <tr>\n",
       "      <th>15</th>\n",
       "      <td>0.539253</td>\n",
       "      <td>1.681996</td>\n",
       "      <td>1.132275</td>\n",
       "    </tr>\n",
       "    <tr>\n",
       "      <th>30</th>\n",
       "      <td>1.697834</td>\n",
       "      <td>0.367533</td>\n",
       "      <td>0.653801</td>\n",
       "    </tr>\n",
       "    <tr>\n",
       "      <th>158</th>\n",
       "      <td>-1.643633</td>\n",
       "      <td>0.950233</td>\n",
       "      <td>0.752455</td>\n",
       "    </tr>\n",
       "    <tr>\n",
       "      <th>128</th>\n",
       "      <td>0.835137</td>\n",
       "      <td>1.770079</td>\n",
       "      <td>-1.319286</td>\n",
       "    </tr>\n",
       "  </tbody>\n",
       "</table>\n",
       "</div>"
      ],
      "text/plain": [
       "           TV     Radio  Newspaper\n",
       "95   0.157812  0.591127   1.132275\n",
       "15   0.539253  1.681996   1.132275\n",
       "30   1.697834  0.367533   0.653801\n",
       "158 -1.643633  0.950233   0.752455\n",
       "128  0.835137  1.770079  -1.319286"
      ]
     },
     "execution_count": 22,
     "metadata": {},
     "output_type": "execute_result"
    }
   ],
   "source": [
    "# Normalization de x_test\n",
    "x_test_norm= (x_test - mean)/std\n",
    "x_test_norm.head()"
   ]
  },
  {
   "cell_type": "markdown",
   "metadata": {
    "id": "6IPdTWuVi7cf"
   },
   "source": [
    "### 2- Construction de X, Theta et Y"
   ]
  },
  {
   "cell_type": "code",
   "execution_count": 23,
   "metadata": {
    "id": "LPqUTv33i7cf",
    "outputId": "44a2353b-086a-488f-d400-f9c940a03421"
   },
   "outputs": [],
   "source": [
    "#x train:\n",
    "X_train_norm_1 = np.hstack((x_train_norm, np.ones((x_train.shape[0], 1))))\n",
    "# X_train_norm_1"
   ]
  },
  {
   "cell_type": "code",
   "execution_count": 24,
   "metadata": {
    "id": "6sP-vvF4i7cf",
    "outputId": "39411a34-514d-447c-8da1-dc282c66e13d"
   },
   "outputs": [],
   "source": [
    "X_test_norm_1 = np.hstack((x_test_norm, np.ones((x_test.shape[0], 1))))\n",
    "# X_test_norm_1"
   ]
  },
  {
   "cell_type": "code",
   "execution_count": 25,
   "metadata": {
    "id": "ZRPOvf0ji7cf",
    "outputId": "a2e1ddf7-30ce-4108-e4ea-c4bbdddb7f1f"
   },
   "outputs": [],
   "source": [
    "Y_train = y_train.values\n",
    "# Y_train"
   ]
  },
  {
   "cell_type": "code",
   "execution_count": 26,
   "metadata": {
    "id": "x8DXNnfGi7cg",
    "outputId": "b51fe0bf-838f-46b5-ce87-f0deb41157a3"
   },
   "outputs": [],
   "source": [
    "Y_test = y_test.values\n",
    "# Y_test"
   ]
  },
  {
   "cell_type": "code",
   "execution_count": 27,
   "metadata": {
    "id": "aA0qhvsai7cg",
    "outputId": "0d5ad206-4c3d-4735-e385-fe8b61f7f72c"
   },
   "outputs": [
    {
     "data": {
      "text/plain": [
       "array([[1.76405235],\n",
       "       [0.40015721],\n",
       "       [0.97873798],\n",
       "       [2.2408932 ]])"
      ]
     },
     "execution_count": 27,
     "metadata": {},
     "output_type": "execute_result"
    }
   ],
   "source": [
    "#construction aléatoire de Theta initial:\n",
    "np.random.seed(0)\n",
    "\n",
    "theta = np.random.randn(X_train_norm_1.shape[1], 1)\n",
    "theta"
   ]
  },
  {
   "cell_type": "markdown",
   "metadata": {
    "id": "rwo1IkT4i7cg"
   },
   "source": [
    "### 4- Définition et entraînemet du modèle"
   ]
  },
  {
   "cell_type": "code",
   "execution_count": 28,
   "metadata": {
    "id": "lFFQFbVci7cg",
    "outputId": "547152ae-1d02-465e-ad84-37e16d71d040"
   },
   "outputs": [
    {
     "data": {
      "text/plain": [
       "91.72522545503882"
      ]
     },
     "execution_count": 28,
     "metadata": {},
     "output_type": "execute_result"
    }
   ],
   "source": [
    "def model(X, theta): # définir le modèle\n",
    "    return X.dot(theta)\n",
    "\n",
    "def cost_function(X, y, theta): #définir la fonction coût\n",
    "    m = len(y)\n",
    "    return 1/(2*m) * np.sum((model(X, theta) - y)**2)\n",
    "\n",
    "cost_function(X_train_norm_1, Y_train ,theta)"
   ]
  },
  {
   "cell_type": "code",
   "execution_count": 29,
   "metadata": {},
   "outputs": [],
   "source": [
    "# définir la fonction de gradient\n",
    "def grad(X, y, theta):\n",
    "    m = len(y)\n",
    "    return 1/m * X.T.dot(model(X, theta) - y)\n",
    "# Définir la descente de gradient\n",
    "def gradient_descent(X, y, theta, learning_rate, n_iterations):\n",
    "    \n",
    "    cost_history = np.zeros(n_iterations) # création d'un tableau de stockage pour enregistrer l'évolution du Cout du modele\n",
    "    \n",
    "    for i in range(0, n_iterations):\n",
    "        theta = theta - learning_rate * grad(X, y, theta) # mise a jour du parametre theta (formule du gradient descent)\n",
    "        cost_history[i] = cost_function(X, y, theta) # on enregistre la valeur du Cout au tour i dans cost_history[i]\n",
    "        \n",
    "    return theta, cost_history"
   ]
  },
  {
   "cell_type": "code",
   "execution_count": 40,
   "metadata": {
    "id": "_rZeSinAi7cg",
    "outputId": "056aac57-a612-4cdd-b4e9-1ce76c7d3163"
   },
   "outputs": [
    {
     "data": {
      "text/plain": [
       "array([[ 4.59587732],\n",
       "       [ 1.46091861],\n",
       "       [ 0.16056271],\n",
       "       [15.330625  ]])"
      ]
     },
     "execution_count": 40,
     "metadata": {},
     "output_type": "execute_result"
    }
   ],
   "source": [
    "#entrainement:\n",
    "theta_final, cost_h = gradient_descent(X_train_norm_1, Y_train, theta, learning_rate=1, n_iterations=3)\n",
    "\n",
    "theta_final"
   ]
  },
  {
   "cell_type": "markdown",
   "metadata": {
    "id": "6xzD0Hb8i7ch"
   },
   "source": [
    "#### courbe d'apprentissage"
   ]
  },
  {
   "cell_type": "code",
   "execution_count": 41,
   "metadata": {
    "id": "kXuBIh_Hi7co",
    "outputId": "b46d13c4-675c-48da-ec5f-fa59e14401a8"
   },
   "outputs": [
    {
     "data": {
      "image/png": "[encoded data removed]",
      "text/plain": [
       "<Figure size 640x480 with 1 Axes>"
      ]
     },
     "metadata": {},
     "output_type": "display_data"
    }
   ],
   "source": [
    "plt.plot(range(3), cost_h)\n",
    "plt.show()"
   ]
  },
  {
   "cell_type": "code",
   "execution_count": 32,
   "metadata": {},
   "outputs": [
    {
     "data": {
      "text/plain": [
       "-1.7844913228505144"
      ]
     },
     "execution_count": 32,
     "metadata": {},
     "output_type": "execute_result"
    }
   ],
   "source": [
    "# Evaluation du modèle\n",
    "def coef_determination(y, pred):\n",
    "    u = ((y - pred)**2).sum()\n",
    "    v = ((y - y.mean())**2).sum()\n",
    "    return 1 - u/v\n",
    "\n",
    "coef_determination(Y_test, model(X_test_norm_1,theta_final))"
   ]
  },
  {
   "cell_type": "markdown",
   "metadata": {
    "id": "qfB5krzQi7co"
   },
   "source": [
    "#### Tester des prédictions"
   ]
  },
  {
   "cell_type": "code",
   "execution_count": 33,
   "metadata": {},
   "outputs": [],
   "source": [
    "predictions=model(X_test_norm_1, theta_final)\n"
   ]
  },
  {
   "cell_type": "code",
   "execution_count": 34,
   "metadata": {},
   "outputs": [
    {
     "name": "stdout",
     "output_type": "stream",
     "text": [
      "Le prix prédit du premier bien du dataset de test est [7.53761812]\n"
     ]
    }
   ],
   "source": [
    "print(\"Le prix prédit du premier bien du dataset de test est\", predictions[0])"
   ]
  },
  {
   "cell_type": "code",
   "execution_count": 35,
   "metadata": {},
   "outputs": [
    {
     "name": "stdout",
     "output_type": "stream",
     "text": [
      "Le prix réel du premier bien du dataset de test est [16.9]\n"
     ]
    }
   ],
   "source": [
    "print(\"Le prix réel du premier bien du dataset de test est\",Y_test[0])"
   ]
  },
  {
   "cell_type": "code",
   "execution_count": 36,
   "metadata": {},
   "outputs": [
    {
     "name": "stdout",
     "output_type": "stream",
     "text": [
      "La marge d'erreur commise est [-9.36238188]\n"
     ]
    }
   ],
   "source": [
    "print(\"La marge d'erreur commise est\",model(X_test_norm_1, theta_final)[0]-Y_test[0])"
   ]
  },
  {
   "cell_type": "markdown",
   "metadata": {},
   "source": [
    "# Comparaison"
   ]
  },
  {
   "cell_type": "code",
   "execution_count": 37,
   "metadata": {},
   "outputs": [
    {
     "name": "stdout",
     "output_type": "stream",
     "text": [
      "[[-4.04248386e-01 -1.02823707e+00 -3.37675384e-01]\n",
      " [ 3.20607716e-01 -9.19827737e-01 -1.16143931e+00]\n",
      " [-1.27051084e+00  2.59123702e-01  2.54250789e-01]\n",
      " [-1.04235941e+00 -6.96233499e-01 -5.74445854e-01]\n",
      " [ 8.79103401e-01 -1.38734296e+00 -7.07629243e-01]\n",
      " [-1.32873699e+00 -1.29926038e+00 -7.96418169e-01]\n",
      " [-9.43731452e-01 -4.65863678e-01  5.35415722e-01]\n",
      " [-3.23140256e-02  6.94073782e-02 -5.34984109e-01]\n",
      " [-5.39713297e-01 -1.16374872e+00  2.19721762e-01]\n",
      " [-8.75998996e-01  3.13328366e-01 -6.87898371e-01]\n",
      " [-8.53421511e-01  1.62101588e+00  2.24654481e-01]\n",
      " [ 2.18414888e-01 -1.06889056e+00 -8.45745350e-01]\n",
      " [-1.67928215e+00  1.76330312e+00  2.22240532e+00]\n",
      " [-1.68997675e+00  1.08574483e+00  1.01882210e+00]\n",
      " [-8.74810708e-01 -1.49575229e+00 -7.47090988e-01]\n",
      " [-2.45017701e-01 -1.16374872e+00  6.68075010e-02]\n",
      " [-9.10459368e-01 -3.98107848e-01 -8.40812632e-01]\n",
      " [ 1.65980907e+00  1.31611465e+00  1.04841841e+00]\n",
      " [-1.54975868e+00 -1.88064775e-01 -6.38571189e-01]\n",
      " [ 5.65395186e-01 -1.31281155e+00 -1.18610290e+00]\n",
      " [ 1.59564148e+00 -8.31745159e-01 -1.16143931e+00]\n",
      " [ 4.14482522e-01 -1.27084528e-01 -3.91935284e-01]\n",
      " [-4.41085335e-01 -3.71005516e-01  4.26895923e-01]\n",
      " [-1.49985056e+00  8.28272672e-01  1.77352797e+00]\n",
      " [ 1.67169196e+00 -1.27215805e+00 -1.05785223e+00]\n",
      " [-1.55213526e+00 -4.65863678e-01 -3.77137129e-01]\n",
      " [ 1.70615233e+00  3.26879532e-01 -1.38834434e+00]\n",
      " [-1.56045328e+00 -7.30111414e-01 -3.22877230e-01]\n",
      " [-1.86791555e-01 -1.21795339e+00 -1.01839048e+00]\n",
      " [-1.47846136e+00  1.09252041e+00 -1.01839048e+00]\n",
      " [-5.89621422e-01 -8.99500988e-01 -1.29955542e+00]\n",
      " [-8.29655737e-01 -1.54995695e+00 -1.02332320e+00]\n",
      " [ 4.56072627e-01 -3.23576435e-01 -2.14357432e-01]\n",
      " [ 3.20607716e-01  7.13087762e-01  4.31828641e-01]\n",
      " [-2.88984383e-01  9.50233166e-01  2.42957948e+00]\n",
      " [ 7.07989829e-01 -1.54186860e-01 -9.49332431e-01]\n",
      " [-8.45987280e-02  4.35288859e-01 -8.55610786e-01]\n",
      " [ 4.14482522e-01  1.42452397e+00 -1.39327706e+00]\n",
      " [ 8.60090782e-01 -1.25860689e+00  9.79360352e-01]\n",
      " [ 1.08943050e+00  1.02476458e+00 -3.32742666e-01]\n",
      " [-1.57827761e+00  1.56003563e+00  1.94124038e+00]\n",
      " [-3.50775395e-01  3.81084195e-01 -7.76687297e-01]\n",
      " [-7.16768312e-01 -8.79174239e-01  2.83847098e-01]\n",
      " [ 4.88156421e-01  3.94635361e-01 -5.79378572e-01]\n",
      " [-8.85505306e-01 -8.18193993e-01 -1.18117018e+00]\n",
      " [ 5.13110484e-01 -3.03249686e-01  1.76366253e+00]\n",
      " [-7.64299859e-01  8.75701753e-01  9.54696761e-01]\n",
      " [ 1.38887925e+00  1.41774839e+00 -1.23049736e+00]\n",
      " [-1.31328923e+00  1.23480765e+00 -1.19103562e+00]\n",
      " [ 1.32233508e+00  1.34321698e+00  1.22106354e+00]\n",
      " [-1.62580916e+00 -4.72639260e-01  9.69494916e-01]\n",
      " [ 5.19051927e-01  8.48599421e-01  2.25200163e+00]\n",
      " [ 1.73942441e+00  9.09579668e-01  3.49997931e+00]\n",
      " [ 1.37343150e+00 -1.94840358e-01 -1.46233511e+00]\n",
      " [ 7.68592552e-01  7.61829612e-02 -1.27982454e+00]\n",
      " [-3.79509701e-03  8.62150587e-01 -1.18117018e+00]\n",
      " [-2.17687061e-01 -3.03249686e-01  2.29587199e-01]\n",
      " [-1.09939727e+00  6.72434264e-01 -3.17944512e-01]\n",
      " [ 1.07041788e+00 -4.18434597e-01 -3.47540821e-01]\n",
      " [-1.03611347e-01  2.65899285e-01  8.01782500e-01]\n",
      " [ 3.65762686e-01 -8.18193993e-01  1.40357411e+00]\n",
      " [-6.27646660e-01 -1.44832321e+00  2.68216547e-03]\n",
      " [ 8.37513296e-01  6.99536596e-01  3.92366896e-01]\n",
      " [-1.15494234e-01 -1.42122088e+00 -1.03318864e+00]\n",
      " [ 1.25222605e+00  2.72674868e-01 -1.20583377e+00]\n",
      " [-6.39529547e-01 -5.47170673e-01  4.41694078e-01]\n",
      " [-9.97204443e-01 -1.15697314e+00 -2.83415485e-01]\n",
      " [ 1.06091157e+00 -4.99741592e-01 -1.30501224e-01]\n",
      " [ 3.05159963e-01 -5.06517175e-01 -1.35874803e+00]\n",
      " [ 1.07041788e+00 -1.05533940e+00 -1.04798679e+00]\n",
      " [-1.56995959e+00  9.97662247e-01 -4.11666156e-01]\n",
      " [ 9.51589011e-01  1.01121341e+00  1.93630767e+00]\n",
      " [ 1.58732346e+00  1.29578790e+00  1.78832612e+00]\n",
      " [ 2.52875260e-01  1.13994949e+00  3.82501460e-01]\n",
      " [ 5.83219517e-01  5.23371438e-01  4.31828641e-01]\n",
      " [-3.19879889e-01  7.94394757e-01 -8.65476223e-01]\n",
      " [-2.24816794e-01  1.34999256e+00 -5.15777338e-02]\n",
      " [-1.48440281e+00  1.91367872e-01  6.58733675e-01]\n",
      " [ 1.60188742e-01  9.43457583e-01 -1.11211213e+00]\n",
      " [ 1.17379900e+00  2.86226034e-01 -3.47540821e-01]\n",
      " [ 6.23621332e-01 -3.90019495e-02  8.16056553e-02]\n",
      " [-1.62699745e+00 -1.52285462e+00 -2.14357432e-01]\n",
      " [-1.73394343e+00 -7.63989329e-01 -1.19596834e+00]\n",
      " [-6.66860187e-01  1.39742164e+00  1.01388938e+00]\n",
      " [ 1.34134770e+00 -1.31281155e+00 -5.15253237e-01]\n",
      " [ 9.30199814e-01 -4.04883431e-01 -1.84761123e-01]\n",
      " [ 1.23321343e+00 -1.06757779e-01  2.68216547e-03]\n",
      " [ 1.10725483e+00  1.77007871e+00  7.08060856e-01]\n",
      " [ 1.06685301e+00 -1.27215805e+00  3.43039715e-01]\n",
      " [ 9.26634948e-01  1.00443783e+00  1.01336528e-01]\n",
      " [ 7.76910573e-01  4.90806292e-02  1.36411236e+00]\n",
      " [ 1.06804130e+00  1.26190998e+00 -5.64580418e-01]\n",
      " [-5.06441213e-01 -6.01375337e-01 -9.39466994e-01]\n",
      " [ 4.48942894e-01 -1.20308945e-01 -1.00852505e+00]\n",
      " [ 6.75906034e-01 -9.80807984e-01 -1.74895687e-01]\n",
      " [-1.27169913e+00  2.04919038e-01 -4.65926055e-01]\n",
      " [ 1.75940994e-02  1.24835882e+00  1.40850683e+00]\n",
      " [-1.44013163e-01  1.59391355e+00  1.43317042e+00]\n",
      " [ 3.87151882e-01  1.58036238e+00  1.41837226e+00]\n",
      " [ 8.29195276e-01  7.19863345e-01  7.47522601e-01]\n",
      " [ 7.81968227e-02 -1.37379180e+00 -1.06771767e+00]\n",
      " [ 1.50533154e+00 -1.39411855e+00 -3.08079076e-01]\n",
      " [ 6.53328549e-01  1.50583097e+00 -5.10320518e-01]\n",
      " [-9.87698133e-01 -7.57213746e-01  3.38106997e-01]\n",
      " [-8.74810708e-01  2.59123702e-01 -3.77137129e-01]\n",
      " [-6.45470990e-01 -1.45509879e+00 -1.11211213e+00]\n",
      " [-3.54340261e-01 -2.21942690e-01 -9.04937968e-01]\n",
      " [ 9.00492597e-01 -9.94359150e-01  1.30985247e+00]\n",
      " [-1.44281270e+00 -1.44832321e+00  1.50663709e-01]\n",
      " [-9.69873803e-01  1.46517747e+00  2.78914380e-01]\n",
      " [ 1.16904584e+00  4.96269106e-01 -4.75791492e-01]\n",
      " [ 8.13747523e-01 -1.18407547e+00 -1.25568505e-01]\n",
      " [-4.77922285e-01  1.68877171e+00  1.05828384e+00]\n",
      " [-1.68047044e+00 -1.40766971e+00 -1.42780609e+00]\n",
      " [-6.24081794e-01 -1.03501265e+00 -1.12197756e+00]\n",
      " [ 7.21061005e-01  4.48840025e-01 -1.01839048e+00]\n",
      " [ 1.72071629e-01 -1.33860111e-01  8.60975117e-01]\n",
      " [ 1.36867834e+00 -1.35346505e+00  6.43935520e-01]\n",
      " [ 1.56118111e+00  1.13317391e+00  1.27532344e+00]\n",
      " [-1.46420190e+00  6.85985430e-01 -5.25118673e-01]\n",
      " [ 1.50770812e+00  1.76330312e+00  5.84742903e-01]\n",
      " [-1.34418474e+00  1.06541808e+00  1.75872981e+00]\n",
      " [ 6.74717746e-01 -1.19762664e+00 -5.20185955e-01]\n",
      " [ 1.63485501e+00  1.36354373e+00  2.06455834e+00]\n",
      " [-5.62290782e-01  4.55615608e-01 -1.06278495e+00]\n",
      " [ 1.33897112e+00  4.01410944e-01 -6.92831089e-01]\n",
      " [-7.08450291e-01 -1.52963021e+00 -3.32742666e-01]\n",
      " [ 5.91537537e-01 -1.33991388e+00  2.29587199e-01]\n",
      " [-6.63295321e-01 -1.21795339e+00 -1.07758310e+00]\n",
      " [ 7.22249293e-01  1.81073220e+00  3.82501460e-01]\n",
      " [ 9.17128639e-01 -4.79414843e-01  9.84293070e-01]\n",
      " [-7.33404353e-01  1.77816706e-01  2.14348183e+00]\n",
      " [ 1.03833409e+00 -1.20440222e+00 -3.17944512e-01]\n",
      " [-1.64214070e-01 -2.49045022e-01 -6.58302062e-01]\n",
      " [ 2.67134725e-01 -3.23576435e-01  3.72111923e-02]\n",
      " [-1.57827761e+00 -1.27215805e+00  8.16056553e-02]\n",
      " [-1.07444321e+00 -7.36886997e-01  6.48868238e-01]\n",
      " [-8.95011616e-01  1.79718104e+00  7.77118909e-01]\n",
      " [-2.60680832e-03 -1.46187438e+00 -2.78482767e-01]\n",
      " [ 1.99402269e-01  1.29578790e+00 -1.29955542e+00]\n",
      " [-1.25387480e+00  1.11284716e+00  7.47522601e-01]\n",
      " [ 7.88793460e-01  1.27546115e+00  4.76223104e-01]\n",
      " [-1.25149822e+00  1.98143455e-01 -4.60993337e-01]\n",
      " [-1.77434525e+00  1.13317391e+00 -1.04798679e+00]\n",
      " [-3.44833951e-01 -9.80807984e-01  9.25100453e-01]\n",
      " [ 4.50131183e-01 -3.84556682e-01 -5.94176726e-01]\n",
      " [-1.76096957e-01  1.27546115e+00  7.86984346e-01]\n",
      " [-1.28565410e-01 -5.81048588e-01 -2.14357432e-01]\n",
      " [-4.67227687e-01  1.20092974e+00  1.64034458e+00]\n",
      " [ 7.53144799e-01  1.16836459e-01 -8.30947196e-01]\n",
      " [-1.55926499e+00 -7.96554474e-02  1.00895666e+00]\n",
      " [ 9.75354785e-01 -9.67256818e-01 -1.04798679e+00]\n",
      " [ 8.12559234e-01  3.26879532e-01  1.15693820e+00]\n",
      " [ 1.61584239e+00 -6.08150920e-01 -1.29462270e+00]\n",
      " [-4.77922285e-01 -5.81048588e-01  8.65383734e-02]\n",
      " [-1.48559110e+00 -8.04642827e-01 -1.21159889e-02]\n",
      " [ 6.42633951e-01  6.79209847e-01  7.91917064e-01]\n",
      " [ 8.04241213e-01  7.19863345e-01  1.43317042e+00]\n",
      " [ 1.85142805e-01 -8.72398657e-01 -6.08974881e-01]\n",
      " [ 1.54692165e+00 -8.65623074e-01 -4.21531592e-01]]\n"
     ]
    }
   ],
   "source": [
    "object= StandardScaler()\n",
    "\n",
    "\n",
    "# standardization \n",
    "scale = object.fit_transform(x_train) \n",
    "print(scale)\n"
   ]
  }
 ],
 "metadata": {
  "colab": {
   "provenance": []
  },
  "kernelspec": {
   "display_name": "Python 3 (ipykernel)",
   "language": "python",
   "name": "python3"
  },
  "language_info": {
   "codemirror_mode": {
    "name": "ipython",
    "version": 3
   },
   "file_extension": ".py",
   "mimetype": "text/x-python",
   "name": "python",
   "nbconvert_exporter": "python",
   "pygments_lexer": "ipython3",
   "version": "3.11.4"
  }
 },
 "nbformat": 4,
 "nbformat_minor": 1
}
