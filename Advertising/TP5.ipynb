{
 "cells": [
  {
   "cell_type": "code",
   "execution_count": 2,
   "id": "0cb0440d",
   "metadata": {},
   "outputs": [],
   "source": [
    "import pandas as pd\n",
    "import numpy as np\n",
    "import matplotlib.pyplot as plt\n",
    "from sklearn.metrics import mean_absolute_error, mean_squared_error,r2_score\n",
    "from sklearn.model_selection import train_test_split\n",
    "from sklearn.preprocessing import StandardScaler\n",
    "%matplotlib inline"
   ]
  },
  {
   "cell_type": "code",
   "execution_count": 3,
   "id": "ab3d92ff",
   "metadata": {},
   "outputs": [],
   "source": [
    "dataset=pd.read_csv(\"Advertising.csv\")"
   ]
  },
  {
   "cell_type": "code",
   "execution_count": 4,
   "id": "cec8c9ba",
   "metadata": {},
   "outputs": [
    {
     "data": {
      "text/html": [
       "<div>\n",
       "<style scoped>\n",
       "    .dataframe tbody tr th:only-of-type {\n",
       "        vertical-align: middle;\n",
       "    }\n",
       "\n",
       "    .dataframe tbody tr th {\n",
       "        vertical-align: top;\n",
       "    }\n",
       "\n",
       "    .dataframe thead th {\n",
       "        text-align: right;\n",
       "    }\n",
       "</style>\n",
       "<table border=\"1\" class=\"dataframe\">\n",
       "  <thead>\n",
       "    <tr style=\"text-align: right;\">\n",
       "      <th></th>\n",
       "      <th>TV</th>\n",
       "      <th>Radio</th>\n",
       "      <th>Newspaper</th>\n",
       "      <th>Sales</th>\n",
       "    </tr>\n",
       "  </thead>\n",
       "  <tbody>\n",
       "    <tr>\n",
       "      <th>0</th>\n",
       "      <td>230.1</td>\n",
       "      <td>37.8</td>\n",
       "      <td>69.2</td>\n",
       "      <td>22.1</td>\n",
       "    </tr>\n",
       "    <tr>\n",
       "      <th>1</th>\n",
       "      <td>44.5</td>\n",
       "      <td>39.3</td>\n",
       "      <td>45.1</td>\n",
       "      <td>10.4</td>\n",
       "    </tr>\n",
       "    <tr>\n",
       "      <th>2</th>\n",
       "      <td>17.2</td>\n",
       "      <td>45.9</td>\n",
       "      <td>69.3</td>\n",
       "      <td>12.0</td>\n",
       "    </tr>\n",
       "    <tr>\n",
       "      <th>3</th>\n",
       "      <td>151.5</td>\n",
       "      <td>41.3</td>\n",
       "      <td>58.5</td>\n",
       "      <td>16.5</td>\n",
       "    </tr>\n",
       "    <tr>\n",
       "      <th>4</th>\n",
       "      <td>180.8</td>\n",
       "      <td>10.8</td>\n",
       "      <td>58.4</td>\n",
       "      <td>17.9</td>\n",
       "    </tr>\n",
       "  </tbody>\n",
       "</table>\n",
       "</div>"
      ],
      "text/plain": [
       "      TV  Radio  Newspaper  Sales\n",
       "0  230.1   37.8       69.2   22.1\n",
       "1   44.5   39.3       45.1   10.4\n",
       "2   17.2   45.9       69.3   12.0\n",
       "3  151.5   41.3       58.5   16.5\n",
       "4  180.8   10.8       58.4   17.9"
      ]
     },
     "execution_count": 4,
     "metadata": {},
     "output_type": "execute_result"
    }
   ],
   "source": [
    "dataset.head()"
   ]
  },
  {
   "cell_type": "code",
   "execution_count": 5,
   "id": "3772def7",
   "metadata": {},
   "outputs": [
    {
     "data": {
      "text/html": [
       "<div>\n",
       "<style scoped>\n",
       "    .dataframe tbody tr th:only-of-type {\n",
       "        vertical-align: middle;\n",
       "    }\n",
       "\n",
       "    .dataframe tbody tr th {\n",
       "        vertical-align: top;\n",
       "    }\n",
       "\n",
       "    .dataframe thead th {\n",
       "        text-align: right;\n",
       "    }\n",
       "</style>\n",
       "<table border=\"1\" class=\"dataframe\">\n",
       "  <thead>\n",
       "    <tr style=\"text-align: right;\">\n",
       "      <th></th>\n",
       "      <th>TV</th>\n",
       "      <th>Radio</th>\n",
       "      <th>Newspaper</th>\n",
       "      <th>Sales</th>\n",
       "    </tr>\n",
       "  </thead>\n",
       "  <tbody>\n",
       "    <tr>\n",
       "      <th>TV</th>\n",
       "      <td>1.000000</td>\n",
       "      <td>0.054809</td>\n",
       "      <td>0.056648</td>\n",
       "      <td>0.901208</td>\n",
       "    </tr>\n",
       "    <tr>\n",
       "      <th>Radio</th>\n",
       "      <td>0.054809</td>\n",
       "      <td>1.000000</td>\n",
       "      <td>0.354104</td>\n",
       "      <td>0.349631</td>\n",
       "    </tr>\n",
       "    <tr>\n",
       "      <th>Newspaper</th>\n",
       "      <td>0.056648</td>\n",
       "      <td>0.354104</td>\n",
       "      <td>1.000000</td>\n",
       "      <td>0.157960</td>\n",
       "    </tr>\n",
       "    <tr>\n",
       "      <th>Sales</th>\n",
       "      <td>0.901208</td>\n",
       "      <td>0.349631</td>\n",
       "      <td>0.157960</td>\n",
       "      <td>1.000000</td>\n",
       "    </tr>\n",
       "  </tbody>\n",
       "</table>\n",
       "</div>"
      ],
      "text/plain": [
       "                 TV     Radio  Newspaper     Sales\n",
       "TV         1.000000  0.054809   0.056648  0.901208\n",
       "Radio      0.054809  1.000000   0.354104  0.349631\n",
       "Newspaper  0.056648  0.354104   1.000000  0.157960\n",
       "Sales      0.901208  0.349631   0.157960  1.000000"
      ]
     },
     "execution_count": 5,
     "metadata": {},
     "output_type": "execute_result"
    }
   ],
   "source": [
    "dataset.corr()"
   ]
  },
  {
   "cell_type": "code",
   "execution_count": 6,
   "id": "db05308c",
   "metadata": {},
   "outputs": [
    {
     "data": {
      "text/html": [
       "<div>\n",
       "<style scoped>\n",
       "    .dataframe tbody tr th:only-of-type {\n",
       "        vertical-align: middle;\n",
       "    }\n",
       "\n",
       "    .dataframe tbody tr th {\n",
       "        vertical-align: top;\n",
       "    }\n",
       "\n",
       "    .dataframe thead th {\n",
       "        text-align: right;\n",
       "    }\n",
       "</style>\n",
       "<table border=\"1\" class=\"dataframe\">\n",
       "  <thead>\n",
       "    <tr style=\"text-align: right;\">\n",
       "      <th></th>\n",
       "      <th>TV</th>\n",
       "      <th>Newspaper</th>\n",
       "      <th>Radio</th>\n",
       "    </tr>\n",
       "  </thead>\n",
       "  <tbody>\n",
       "    <tr>\n",
       "      <th>0</th>\n",
       "      <td>230.1</td>\n",
       "      <td>69.2</td>\n",
       "      <td>37.8</td>\n",
       "    </tr>\n",
       "    <tr>\n",
       "      <th>1</th>\n",
       "      <td>44.5</td>\n",
       "      <td>45.1</td>\n",
       "      <td>39.3</td>\n",
       "    </tr>\n",
       "    <tr>\n",
       "      <th>2</th>\n",
       "      <td>17.2</td>\n",
       "      <td>69.3</td>\n",
       "      <td>45.9</td>\n",
       "    </tr>\n",
       "    <tr>\n",
       "      <th>3</th>\n",
       "      <td>151.5</td>\n",
       "      <td>58.5</td>\n",
       "      <td>41.3</td>\n",
       "    </tr>\n",
       "    <tr>\n",
       "      <th>4</th>\n",
       "      <td>180.8</td>\n",
       "      <td>58.4</td>\n",
       "      <td>10.8</td>\n",
       "    </tr>\n",
       "    <tr>\n",
       "      <th>...</th>\n",
       "      <td>...</td>\n",
       "      <td>...</td>\n",
       "      <td>...</td>\n",
       "    </tr>\n",
       "    <tr>\n",
       "      <th>195</th>\n",
       "      <td>38.2</td>\n",
       "      <td>13.8</td>\n",
       "      <td>3.7</td>\n",
       "    </tr>\n",
       "    <tr>\n",
       "      <th>196</th>\n",
       "      <td>94.2</td>\n",
       "      <td>8.1</td>\n",
       "      <td>4.9</td>\n",
       "    </tr>\n",
       "    <tr>\n",
       "      <th>197</th>\n",
       "      <td>177.0</td>\n",
       "      <td>6.4</td>\n",
       "      <td>9.3</td>\n",
       "    </tr>\n",
       "    <tr>\n",
       "      <th>198</th>\n",
       "      <td>283.6</td>\n",
       "      <td>66.2</td>\n",
       "      <td>42.0</td>\n",
       "    </tr>\n",
       "    <tr>\n",
       "      <th>199</th>\n",
       "      <td>232.1</td>\n",
       "      <td>8.7</td>\n",
       "      <td>8.6</td>\n",
       "    </tr>\n",
       "  </tbody>\n",
       "</table>\n",
       "<p>200 rows × 3 columns</p>\n",
       "</div>"
      ],
      "text/plain": [
       "        TV  Newspaper  Radio\n",
       "0    230.1       69.2   37.8\n",
       "1     44.5       45.1   39.3\n",
       "2     17.2       69.3   45.9\n",
       "3    151.5       58.5   41.3\n",
       "4    180.8       58.4   10.8\n",
       "..     ...        ...    ...\n",
       "195   38.2       13.8    3.7\n",
       "196   94.2        8.1    4.9\n",
       "197  177.0        6.4    9.3\n",
       "198  283.6       66.2   42.0\n",
       "199  232.1        8.7    8.6\n",
       "\n",
       "[200 rows x 3 columns]"
      ]
     },
     "execution_count": 6,
     "metadata": {},
     "output_type": "execute_result"
    }
   ],
   "source": [
    "df=dataset[['TV','Newspaper','Radio']]\n",
    "columns = ['TV','Newspaper','Radio']\n",
    "df"
   ]
  },
  {
   "cell_type": "code",
   "execution_count": null,
   "id": "33b37ff3",
   "metadata": {},
   "outputs": [],
   "source": [
    "x = dataset[columns].values.reshape(-1, 3)  \n",
    "y = dataset['Sales'].values.reshape(-1, 1) \n",
    "print(x.shape)\n",
    "print(y.shape)\n",
    "print(x)"
   ]
  },
  {
   "cell_type": "code",
   "execution_count": null,
   "id": "f1d5fdc3",
   "metadata": {},
   "outputs": [],
   "source": [
    "X = dataset[columns].values.reshape(-1, 3)  \n",
    "Y = dataset['Sales'].values.reshape(-1, 1) \n",
    "print(X)"
   ]
  },
  {
   "cell_type": "code",
   "execution_count": 9,
   "id": "d9981aa5",
   "metadata": {},
   "outputs": [
    {
     "data": {
      "text/plain": [
       "(200, 9)"
      ]
     },
     "execution_count": 9,
     "metadata": {},
     "output_type": "execute_result"
    }
   ],
   "source": [
    "X = np.column_stack((X[:, 0] * X[:, 1], X[:, 0] * X[:, 2], X[:, 1] * X[:, 2], X[:, 0] ** 2, X[:, 1] ** 2, X[:, 2] ** 2, X))\n",
    "X.shape"
   ]
  },
  {
   "cell_type": "code",
   "execution_count": 10,
   "id": "c6686530",
   "metadata": {},
   "outputs": [
    {
     "name": "stdout",
     "output_type": "stream",
     "text": [
      "[[2.67960e+03 8.93200e+02 1.77870e+02 ... 1.16000e+02 2.31000e+01\n",
      "  7.70000e+00]\n",
      " [1.13280e+03 1.64610e+03 5.95200e+01 ... 1.77000e+02 6.40000e+00\n",
      "  9.30000e+00]\n",
      " [1.51281e+03 1.15077e+03 9.37170e+02 ... 4.31000e+01 3.51000e+01\n",
      "  2.67000e+01]\n",
      " ...\n",
      " [1.28443e+04 7.29295e+03 1.97650e+03 ... 2.17700e+02 5.90000e+01\n",
      "  3.35000e+01]\n",
      " [2.91456e+03 1.65600e+03 1.76000e+02 ... 1.65600e+02 1.76000e+01\n",
      "  1.00000e+01]\n",
      " [5.99628e+03 2.83002e+03 2.16140e+02 ... 2.80200e+02 2.14000e+01\n",
      "  1.01000e+01]]\n"
     ]
    }
   ],
   "source": [
    "X_train, X_test, y_train, y_test = train_test_split(X, Y, test_size=0.2, random_state=42)\n",
    "print(X_train)"
   ]
  },
  {
   "cell_type": "code",
   "execution_count": null,
   "id": "b4b11fac",
   "metadata": {},
   "outputs": [],
   "source": [
    "X_train.shape\n",
    "print(X[:10])"
   ]
  },
  {
   "cell_type": "code",
   "execution_count": null,
   "id": "321a3077",
   "metadata": {},
   "outputs": [],
   "source": [
    "scaler = StandardScaler()\n",
    "scaler.fit(X_train)\n",
    "means = scaler.mean_\n",
    "scales = np.sqrt(scaler.var_)\n",
    "X_train_scaled = scaler.transform(X_train)\n",
    "X_test_scaled = (X_test - means)/scales\n",
    "print(X_test_scaled)"
   ]
  },
  {
   "cell_type": "code",
   "execution_count": 13,
   "id": "52f06cb7",
   "metadata": {},
   "outputs": [
    {
     "name": "stdout",
     "output_type": "stream",
     "text": [
      "[[ 8.80626951e-01  5.01838751e-01  9.76876694e-01 -1.14868405e-01\n",
      "   9.42058287e-01  3.53971232e-01  1.57812165e-01  1.13227461e+00\n",
      "   5.91127268e-01  1.00000000e+00]\n",
      " [ 1.24415002e+00  1.75835198e+00  1.93264278e+00  3.37942156e-01\n",
      "   9.42058287e-01  2.10942255e+00  5.39252835e-01  1.13227461e+00\n",
      "   1.68199613e+00  1.00000000e+00]\n",
      " [ 1.74008652e+00  1.44681051e+00  4.72919345e-01  2.21022509e+00\n",
      "   3.52960294e-01  8.21831001e-02  1.69783431e+00  6.53800957e-01\n",
      "   3.67533029e-01  1.00000000e+00]\n",
      " [-8.55484765e-01 -9.26299991e-01  9.72657224e-01 -1.15818806e+00\n",
      "   4.64691550e-01  8.53150073e-01 -1.64363349e+00  7.52455319e-01\n",
      "   9.50233166e-01  1.00000000e+00]\n",
      " [-8.17781414e-01  2.20357258e+00 -7.23075988e-01  7.45003170e-01\n",
      "  -8.19965110e-01  2.28226864e+00  8.35136719e-01 -1.31928629e+00\n",
      "   1.77007871e+00  1.00000000e+00]\n",
      " [-1.21427584e-01 -2.62821262e-01  1.17086010e+00 -9.41772181e-01\n",
      "   9.28711204e-01  6.65316933e-01 -8.90258461e-01  1.12240918e+00\n",
      "   8.21497089e-01  1.00000000e+00]\n",
      " [ 2.93709601e-01  1.81783271e+00  4.40959103e-01  6.84840239e-01\n",
      "  -3.58884089e-01  1.63082685e+00  7.93546615e-01 -1.35433942e-01\n",
      "   1.42452397e+00  1.00000000e+00]\n",
      " [-7.71746162e-01 -8.81518793e-01 -6.59514609e-01 -1.06525632e+00\n",
      "  -6.12478650e-01 -8.33993286e-01 -1.18851892e+00 -5.69513136e-01\n",
      "  -7.63989329e-01  1.00000000e+00]\n",
      " [-3.44995267e-01 -8.28314128e-01 -8.49054103e-01  7.81563404e-01\n",
      "  -7.17985060e-01 -1.00311323e+00  8.60090782e-01 -8.30947196e-01\n",
      "  -1.31958713e+00  1.00000000e+00]\n",
      " [ 2.12079663e-01  1.33208584e-01 -1.03677977e-01  4.21651636e-02\n",
      "  -1.99370026e-01 -3.22934800e-01  2.98030231e-01  7.66729372e-02\n",
      "  -2.54507836e-02  1.00000000e+00]\n",
      " [-9.53861995e-01 -8.22654186e-01 -8.38303432e-01 -1.12455014e+00\n",
      "  -8.23377716e-01 -1.86937612e-01 -1.40835233e+00 -1.36861347e+00\n",
      "   1.16836459e-01  1.00000000e+00]\n",
      " [-6.11372052e-01 -9.59942519e-01 -7.09059717e-01 -1.03936248e+00\n",
      "  -2.68987193e-01 -9.74335344e-01 -1.11484502e+00 -1.21159889e-02\n",
      "  -1.16374872e+00  1.00000000e+00]\n",
      " [ 3.28836439e+00 -8.15888833e-01 -5.75484311e-01  9.98976983e-01\n",
      "   3.71804283e+00 -1.00311323e+00  1.00387371e+00  2.70581169e+00\n",
      "  -1.31958713e+00  1.00000000e+00]\n",
      " [-9.57830995e-01 -1.00792820e+00 -5.83631479e-01 -1.16242465e+00\n",
      "  -7.70596073e-01  2.10219276e-01 -1.71849568e+00 -1.01345777e+00\n",
      "   4.75942357e-01  1.00000000e+00]\n",
      " [-1.74319742e-01 -9.68214974e-01 -8.36350805e-01 -3.98276967e-01\n",
      "  -3.79283891e-01 -1.01294419e+00 -1.25000544e-01 -1.65030250e-01\n",
      "  -1.40766971e+00  1.00000000e+00]\n",
      " [ 3.13850023e-01 -6.55737233e-01 -5.90925776e-01 -2.43733044e-02\n",
      "  -4.34076009e-02 -9.35355258e-01  2.39804085e-01  2.59183507e-01\n",
      "  -1.02146148e+00  1.00000000e+00]\n",
      " [-9.03999036e-01 -9.94738781e-01  4.06462691e-01 -1.16147572e+00\n",
      "   2.56724798e-01  6.66735633e-02 -1.69591819e+00  5.65012030e-01\n",
      "   3.53981863e-01  1.00000000e+00]\n",
      " [-3.68012893e-01  3.33852631e-01 -5.27745944e-01  3.71943444e-01\n",
      "  -6.99007177e-01 -2.72556305e-01  5.65395186e-01 -7.76687297e-01\n",
      "   2.87538803e-02  1.00000000e+00]\n",
      " [-4.44796114e-01 -5.95021214e-01 -1.58665753e-01 -9.40589254e-01\n",
      "  -1.58924322e-01 -4.52400933e-01 -8.87881883e-01  1.26000118e-01\n",
      "  -1.74513609e-01  1.00000000e+00]\n",
      " [-4.09655272e-01  9.15074942e-01 -5.59571522e-01  1.05279505e+00\n",
      "  -7.49968764e-01  2.08049333e-02  1.03833409e+00 -9.34534276e-01\n",
      "   3.13328366e-01  1.00000000e+00]\n",
      " [ 2.67680885e+00  1.18217046e+00  1.79049377e+00  9.07740587e-01\n",
      "   2.65293051e+00  4.15473145e-01  9.44459279e-01  2.18294357e+00\n",
      "   6.38556349e-01  1.00000000e+00]\n",
      " [ 6.85951183e-01 -3.07224928e-01  3.78322830e+00 -9.82795918e-01\n",
      "   7.38656926e+00  8.22832228e-01 -9.77003535e-01  4.14616538e+00\n",
      "   9.29906417e-01  1.00000000e+00]\n",
      " [-8.71891674e-01 -5.94172525e-01 -3.60863657e-01 -1.10678461e+00\n",
      "  -7.36943984e-01  1.21404929e+00 -1.33111357e+00 -8.90139813e-01\n",
      "   1.18060299e+00  1.00000000e+00]\n",
      " [ 2.91468548e+00  1.70920350e+00  2.06239149e+00  1.31203423e+00\n",
      "   2.47702329e+00  8.12781279e-01  1.19875306e+00  2.08922193e+00\n",
      "   9.23130834e-01  1.00000000e+00]\n",
      " [-9.55403354e-01 -8.62883871e-01 -8.89644059e-01 -9.76340157e-01\n",
      "  -8.25924531e-01 -9.00087562e-01 -9.62744071e-01 -1.43273881e+00\n",
      "  -9.19827737e-01  1.00000000e+00]\n",
      " [-7.23600105e-01 -1.02437646e+00 -8.51006731e-01 -1.05101046e+00\n",
      "  -5.37022135e-01 -1.01350792e+00 -1.14692882e+00 -4.21531592e-01\n",
      "  -1.41444530e+00  1.00000000e+00]\n",
      " [ 5.76150771e-01  1.71604436e+00  7.31967876e-01  6.28997665e-01\n",
      "  -1.04455335e-01  1.52329131e+00  7.54333088e-01  1.90125454e-01\n",
      "   1.36354373e+00  1.00000000e+00]\n",
      " [-6.64523244e-01 -4.46648576e-01 -7.33063564e-01 -4.00469787e-01\n",
      "  -7.60686875e-01 -7.29922644e-01 -1.27377121e-01 -9.73996021e-01\n",
      "  -5.67497422e-01  1.00000000e+00]\n",
      " [-4.85207546e-01 -7.45921799e-01 -5.56070259e-01 -8.64542537e-01\n",
      "  -4.02508572e-01 -8.27558478e-01 -7.46475529e-01 -1.99559277e-01\n",
      "  -7.50438163e-01  1.00000000e+00]\n",
      " [-9.64921245e-01 -9.87686505e-01 -8.34936834e-01 -1.16079655e+00\n",
      "  -8.23649461e-01 -1.75814280e-03 -1.68284702e+00 -1.37354619e+00\n",
      "   2.93001617e-01  1.00000000e+00]\n",
      " [-6.19161454e-02 -8.99797326e-01 -8.37181233e-01  4.06325408e-01\n",
      "  -5.42406469e-01 -1.00971304e+00  5.91537537e-01 -4.31397029e-01\n",
      "  -1.37379180e+00  1.00000000e+00]\n",
      " [-6.97598237e-01 -6.28240907e-01 -4.78043729e-01 -9.75253185e-01\n",
      "  -6.14797959e-01 -4.41181268e-01 -9.60367494e-01 -5.74445854e-01\n",
      "  -1.60962443e-01  1.00000000e+00]\n",
      " [ 1.58610477e+00  1.91089860e+00  2.42716243e+00  3.92214048e-01\n",
      "   1.44863440e+00  2.33638702e+00  5.80842939e-01  1.48249760e+00\n",
      "   1.79718104e+00  1.00000000e+00]\n",
      " [-6.45256258e-01 -8.33638823e-01  3.48514967e+00 -1.15233949e+00\n",
      "   4.22444832e+00  1.60673756e+00 -1.58184248e+00  2.93271673e+00\n",
      "   1.41097281e+00  1.00000000e+00]\n",
      " [ 1.25469120e+00  1.21725606e-01 -3.21889669e-01  1.93502466e+00\n",
      "   3.87224559e-02 -7.53351944e-01  1.55286309e+00  3.47972433e-01\n",
      "  -6.08150920e-01  1.00000000e+00]\n",
      " [-6.98433140e-01  1.41092696e+00 -6.95032223e-01  1.06775782e+00\n",
      "  -8.08684550e-01  5.98617675e-01  1.04784039e+00 -1.21569921e+00\n",
      "   7.74068008e-01  1.00000000e+00]\n",
      " [-8.80808007e-01 -3.71066903e-01 -4.50718171e-01 -1.07182809e+00\n",
      "  -7.80777015e-01  2.01827652e+00 -1.20871983e+00 -1.05785223e+00\n",
      "   1.63456705e+00  1.00000000e+00]\n",
      " [ 2.52930722e+00  1.33230088e+00  1.03712758e+00  1.78240819e+00\n",
      "   1.42594057e+00  1.29371691e-01  1.46968288e+00  1.46769945e+00\n",
      "   4.08186527e-01  1.00000000e+00]\n",
      " [-8.33212129e-01 -5.36352922e-01 -8.09956673e-01 -6.23395303e-01\n",
      "  -8.08008349e-01 -7.21892884e-01 -3.89988922e-01 -1.21076649e+00\n",
      "  -5.53946256e-01  1.00000000e+00]\n",
      " [-8.46833888e-01 -1.04340402e+00 -8.61869622e-01 -1.13383109e+00\n",
      "  -5.55646117e-01 -1.01548786e+00 -1.45588388e+00 -4.56060619e-01\n",
      "  -1.44154763e+00  1.00000000e+00]]\n"
     ]
    }
   ],
   "source": [
    "ones_column = np.ones((X_train_scaled.shape[0], 1))\n",
    "ones_column2 = np.ones((X_test_scaled.shape[0], 1))\n",
    "X_train_scaled = np.hstack((X_train_scaled, ones_column))\n",
    "X_test_scaled = np.hstack((X_test_scaled, ones_column2))\n",
    "print(X_test_scaled)"
   ]
  },
  {
   "cell_type": "code",
   "execution_count": 14,
   "id": "1905216a",
   "metadata": {},
   "outputs": [
    {
     "name": "stdout",
     "output_type": "stream",
     "text": [
      "Theta: [[ 1.76405235]\n",
      " [ 0.40015721]\n",
      " [ 0.97873798]\n",
      " [ 2.2408932 ]\n",
      " [ 1.86755799]\n",
      " [-0.97727788]\n",
      " [ 0.95008842]\n",
      " [-0.15135721]\n",
      " [-0.10321885]\n",
      " [ 0.4105985 ]]\n"
     ]
    }
   ],
   "source": [
    "np.random.seed(0) # pour produire toujours le meme vecteur theta aléatoire\n",
    "theta=np.random.randn(10,1)\n",
    "print('Theta:',theta)"
   ]
  },
  {
   "cell_type": "code",
   "execution_count": 15,
   "id": "9df312a3",
   "metadata": {},
   "outputs": [],
   "source": [
    "def model(X, theta):\n",
    "    return X.dot(theta)"
   ]
  },
  {
   "cell_type": "code",
   "execution_count": 16,
   "id": "b166e5ca",
   "metadata": {},
   "outputs": [],
   "source": [
    "def cost_function(X, y, theta):\n",
    "    m = len(y)\n",
    "    return 1/(2*m) * np.sum((model(X, theta) - y)**2)"
   ]
  },
  {
   "cell_type": "code",
   "execution_count": 17,
   "id": "023e02af",
   "metadata": {},
   "outputs": [
    {
     "data": {
      "text/plain": [
       "118.87367827385106"
      ]
     },
     "execution_count": 17,
     "metadata": {},
     "output_type": "execute_result"
    }
   ],
   "source": [
    "cost_function(X_train_scaled, y_train, theta)"
   ]
  },
  {
   "cell_type": "code",
   "execution_count": 18,
   "id": "9ece4c6f",
   "metadata": {},
   "outputs": [],
   "source": [
    "def grad(X, y, theta):\n",
    "    m = len(y)\n",
    "    return 1/m * X.T.dot(model(X, theta) - y)"
   ]
  },
  {
   "cell_type": "code",
   "execution_count": 19,
   "id": "154c3247",
   "metadata": {},
   "outputs": [],
   "source": [
    "def gradient_descent(X, y, theta, learning_rate, n_iterations):\n",
    "    \n",
    "    cost_history = np.zeros(n_iterations) # création d'un tableau de stockage pour enregistrer l'évolution du Cout du modele\n",
    "    \n",
    "    for i in range(0, n_iterations):\n",
    "        theta = theta - learning_rate * grad(X, y, theta) # mise a jour du parametre theta (formule du gradient descent)\n",
    "        cost_history[i] = cost_function(X, y, theta) # on enregistre la valeur du Cout au tour i dans cost_history[i]\n",
    "        \n",
    "    return theta, cost_history"
   ]
  },
  {
   "cell_type": "code",
   "execution_count": 20,
   "id": "89aa6881",
   "metadata": {},
   "outputs": [],
   "source": [
    "n_iterations = 200\n",
    "learning_rate = 0.4\n",
    "\n",
    "theta_final, cost_history = gradient_descent(X_train_scaled, y_train, theta, learning_rate, n_iterations)\n"
   ]
  },
  {
   "cell_type": "code",
   "execution_count": 21,
   "id": "d997718f",
   "metadata": {},
   "outputs": [
    {
     "data": {
      "text/plain": [
       "array([[-4.04890642e-02],\n",
       "       [ 1.38840439e+00],\n",
       "       [ 2.12030183e-01],\n",
       "       [-2.23724536e+00],\n",
       "       [-7.30099932e-03],\n",
       "       [ 8.34343929e-01],\n",
       "       [ 5.91873651e+00],\n",
       "       [-9.09768044e-03],\n",
       "       [-2.89400208e-01],\n",
       "       [ 1.53306250e+01]])"
      ]
     },
     "execution_count": 21,
     "metadata": {},
     "output_type": "execute_result"
    }
   ],
   "source": [
    "theta_final"
   ]
  },
  {
   "cell_type": "code",
   "execution_count": 22,
   "id": "ddc88d27",
   "metadata": {},
   "outputs": [
    {
     "data": {
      "text/plain": [
       "array([[12.65444937],\n",
       "       [15.68273938],\n",
       "       [ 9.2151409 ],\n",
       "       [ 9.72164607],\n",
       "       [16.87720215],\n",
       "       [ 7.94322745],\n",
       "       [10.46688772],\n",
       "       [15.56976421],\n",
       "       [11.94616934],\n",
       "       [11.53005826],\n",
       "       [13.81333362],\n",
       "       [15.14724597],\n",
       "       [ 8.75732673],\n",
       "       [ 7.4560522 ],\n",
       "       [10.23784788],\n",
       "       [13.23330351],\n",
       "       [10.62920229],\n",
       "       [25.08664023],\n",
       "       [ 7.03071345],\n",
       "       [16.07166326],\n",
       "       [19.44808347],\n",
       "       [17.16333199],\n",
       "       [13.12874118],\n",
       "       [ 8.56863231],\n",
       "       [18.81378934],\n",
       "       [ 6.89228529],\n",
       "       [22.20110536],\n",
       "       [ 6.74257886],\n",
       "       [13.44352865],\n",
       "       [ 8.60331175],\n",
       "       [11.88150909],\n",
       "       [10.44579636],\n",
       "       [17.01441069],\n",
       "       [18.40208027],\n",
       "       [16.16061712],\n",
       "       [18.1794336 ],\n",
       "       [15.86768312],\n",
       "       [20.1464939 ],\n",
       "       [16.93110675],\n",
       "       [22.15245521],\n",
       "       [ 9.10688814],\n",
       "       [14.46667334],\n",
       "       [11.30798267],\n",
       "       [18.37582817],\n",
       "       [10.46312909],\n",
       "       [17.33254723],\n",
       "       [13.16807995],\n",
       "       [24.16831657],\n",
       "       [ 9.88751402],\n",
       "       [24.07906402],\n",
       "       [ 6.50968096],\n",
       "       [19.77258415],\n",
       "       [24.33044138],\n",
       "       [20.15036258],\n",
       "       [18.79104038],\n",
       "       [16.96975483],\n",
       "       [14.25334645],\n",
       "       [10.67568482],\n",
       "       [18.90116552],\n",
       "       [15.65709418],\n",
       "       [15.97941949],\n",
       "       [11.38913693],\n",
       "       [20.49900392],\n",
       "       [13.58508094],\n",
       "       [20.80972279],\n",
       "       [11.97191138],\n",
       "       [ 9.73812157],\n",
       "       [18.72955568],\n",
       "       [16.13199508],\n",
       "       [17.84238325],\n",
       "       [ 7.95760437],\n",
       "       [21.88347301],\n",
       "       [24.89551967],\n",
       "       [19.00611301],\n",
       "       [19.11700861],\n",
       "       [15.2701378 ],\n",
       "       [16.95010922],\n",
       "       [ 7.84345492],\n",
       "       [17.93503513],\n",
       "       [20.65836098],\n",
       "       [18.13660048],\n",
       "       [ 6.26781547],\n",
       "       [ 5.62856717],\n",
       "       [14.68818811],\n",
       "       [18.08378296],\n",
       "       [18.50578234],\n",
       "       [20.00300657],\n",
       "       [24.46773209],\n",
       "       [17.4758571 ],\n",
       "       [21.54436524],\n",
       "       [18.93191818],\n",
       "       [22.66217259],\n",
       "       [12.52234546],\n",
       "       [17.27346919],\n",
       "       [16.80271383],\n",
       "       [ 9.07984714],\n",
       "       [18.24454734],\n",
       "       [18.18911333],\n",
       "       [20.88137645],\n",
       "       [20.55248763],\n",
       "       [14.35565727],\n",
       "       [18.2773715 ],\n",
       "       [21.59348401],\n",
       "       [10.00761806],\n",
       "       [11.50606817],\n",
       "       [11.33070532],\n",
       "       [13.64519022],\n",
       "       [17.42942722],\n",
       "       [ 7.29645562],\n",
       "       [12.79059032],\n",
       "       [21.11464266],\n",
       "       [16.93891595],\n",
       "       [16.42883741],\n",
       "       [ 5.95178544],\n",
       "       [11.63440079],\n",
       "       [19.36501667],\n",
       "       [16.24022536],\n",
       "       [18.02439244],\n",
       "       [24.25195342],\n",
       "       [ 8.31345565],\n",
       "       [25.93241175],\n",
       "       [ 9.93932935],\n",
       "       [16.52272132],\n",
       "       [25.29548908],\n",
       "       [13.4241391 ],\n",
       "       [21.41021227],\n",
       "       [10.99717035],\n",
       "       [16.07655223],\n",
       "       [11.35044758],\n",
       "       [22.88496488],\n",
       "       [18.35707212],\n",
       "       [12.42782385],\n",
       "       [17.52480218],\n",
       "       [14.51958852],\n",
       "       [16.29457867],\n",
       "       [ 6.54147905],\n",
       "       [ 9.56393955],\n",
       "       [14.00057997],\n",
       "       [13.96382353],\n",
       "       [18.83233476],\n",
       "       [10.44681453],\n",
       "       [21.7364781 ],\n",
       "       [ 9.19863388],\n",
       "       [ 6.54297268],\n",
       "       [12.95990814],\n",
       "       [16.8829497 ],\n",
       "       [17.19523373],\n",
       "       [14.29798596],\n",
       "       [15.57218716],\n",
       "       [18.84311619],\n",
       "       [ 7.17659784],\n",
       "       [17.71564238],\n",
       "       [19.63348113],\n",
       "       [19.91774401],\n",
       "       [12.71514342],\n",
       "       [ 7.17765048],\n",
       "       [19.73235226],\n",
       "       [20.52859908],\n",
       "       [15.2365131 ],\n",
       "       [19.27473945]])"
      ]
     },
     "execution_count": 22,
     "metadata": {},
     "output_type": "execute_result"
    }
   ],
   "source": [
    "predictions = model(X_train_scaled, theta_final)\n",
    "predictions"
   ]
  },
  {
   "cell_type": "code",
   "execution_count": 23,
   "id": "2f1c2e6d",
   "metadata": {},
   "outputs": [
    {
     "data": {
      "image/png": "[encoded data removed]",
      "text/plain": [
       "<Figure size 640x480 with 1 Axes>"
      ]
     },
     "metadata": {},
     "output_type": "display_data"
    }
   ],
   "source": [
    "plt.plot(range(n_iterations), cost_history)\n",
    "plt.show()"
   ]
  },
  {
   "cell_type": "code",
   "execution_count": 24,
   "id": "2d1313dc",
   "metadata": {},
   "outputs": [],
   "source": [
    "def coef_determination(y, pred):\n",
    "    u = ((y - pred)**2).sum()\n",
    "    v = ((y - y.mean())**2).sum()\n",
    "    return 1 - u/v"
   ]
  },
  {
   "cell_type": "code",
   "execution_count": 25,
   "id": "a381e18d",
   "metadata": {},
   "outputs": [
    {
     "name": "stdout",
     "output_type": "stream",
     "text": [
      "Coeff de determination pour train :  92.82301981341861 %\n",
      "Coeff de determination pour test : 95.15073596767617 %\n"
     ]
    }
   ],
   "source": [
    "train_prediction = coef_determination(y_train, predictions)\n",
    "print(\"Coeff de determination pour train : \",train_prediction *100 ,\"%\")\n",
    "predictions = model(X_test_scaled, theta_final)\n",
    "test_prediction = coef_determination(y_test, predictions)\n",
    "print(\"Coeff de determination pour test :\",test_prediction*100,\"%\")\n",
    "\n"
   ]
  },
  {
   "cell_type": "markdown",
   "id": "e64d8a80",
   "metadata": {},
   "source": [
    "#### Moyenne des erreurs"
   ]
  },
  {
   "cell_type": "code",
   "execution_count": 26,
   "id": "dec97154",
   "metadata": {},
   "outputs": [
    {
     "name": "stdout",
     "output_type": "stream",
     "text": [
      "MAE: 0.9291998042974756\n",
      "MSE: 1.4984759278924198\n",
      "RMSE: 1.2241225134325484\n"
     ]
    }
   ],
   "source": [
    "y_test_pred = model(X_test_scaled, theta_final)\n",
    "MAE = mean_absolute_error(y_test, y_test_pred)\n",
    "MSE = mean_squared_error(y_test, y_test_pred)  \n",
    "RMSE =  np.sqrt(MSE)  \n",
    "print('MAE:', MAE)\n",
    "print('MSE:', MSE)\n",
    "print('RMSE:', RMSE)\n"
   ]
  },
  {
   "cell_type": "code",
   "execution_count": 27,
   "id": "d0a5dfba",
   "metadata": {},
   "outputs": [
    {
     "name": "stdout",
     "output_type": "stream",
     "text": [
      "Train R2: 0.9282301981341861\n",
      "Test R2: 0.9515073596767617\n"
     ]
    }
   ],
   "source": [
    "y_train_pred = model(X_train_scaled, theta_final)\n",
    "\n",
    "train_R2 = r2_score(y_train, y_train_pred)\n",
    "test_R2 = r2_score(y_test, y_test_pred)\n",
    "\n",
    "print('Train R2:', train_R2)\n",
    "print('Test R2:', test_R2)"
   ]
  }
 ],
 "metadata": {
  "kernelspec": {
   "display_name": "Python 3 (ipykernel)",
   "language": "python",
   "name": "python3"
  },
  "language_info": {
   "codemirror_mode": {
    "name": "ipython",
    "version": 3
   },
   "file_extension": ".py",
   "mimetype": "text/x-python",
   "name": "python",
   "nbconvert_exporter": "python",
   "pygments_lexer": "ipython3",
   "version": "3.11.4"
  }
 },
 "nbformat": 4,
 "nbformat_minor": 5
}
