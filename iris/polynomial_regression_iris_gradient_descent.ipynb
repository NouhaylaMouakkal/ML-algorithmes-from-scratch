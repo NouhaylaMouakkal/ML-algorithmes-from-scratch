{
 "cells": [
  {
   "cell_type": "markdown",
   "id": "952e8adb",
   "metadata": {},
   "source": [
    "# Regression Linéaire Simple du dataset Iris - Gradient Descent"
   ]
  },
  {
   "cell_type": "code",
   "execution_count": 183,
   "id": "4aaf4dbc",
   "metadata": {},
   "outputs": [],
   "source": [
    "import pandas as pd\n",
    "import numpy as np\n",
    "import matplotlib.pyplot as plt\n",
    "from sklearn.model_selection import train_test_split\n",
    "%matplotlib inline"
   ]
  },
  {
   "cell_type": "markdown",
   "id": "52aab10c",
   "metadata": {},
   "source": [
    "## 1. Dataset\n",
    "Chargement du dataset Iris pour effectuer les prédictions de la largeur des pétales en fonction de longueur des pétales"
   ]
  },
  {
   "cell_type": "code",
   "execution_count": 184,
   "id": "fd4ad33b",
   "metadata": {},
   "outputs": [],
   "source": [
    "dataset=pd.read_csv(\"iris.csv\")"
   ]
  },
  {
   "cell_type": "code",
   "execution_count": 185,
   "id": "b1933fdf",
   "metadata": {},
   "outputs": [
    {
     "data": {
      "text/html": [
       "<div>\n",
       "<style scoped>\n",
       "    .dataframe tbody tr th:only-of-type {\n",
       "        vertical-align: middle;\n",
       "    }\n",
       "\n",
       "    .dataframe tbody tr th {\n",
       "        vertical-align: top;\n",
       "    }\n",
       "\n",
       "    .dataframe thead th {\n",
       "        text-align: right;\n",
       "    }\n",
       "</style>\n",
       "<table border=\"1\" class=\"dataframe\">\n",
       "  <thead>\n",
       "    <tr style=\"text-align: right;\">\n",
       "      <th></th>\n",
       "      <th>sepal_length</th>\n",
       "      <th>sepal_width</th>\n",
       "      <th>petal_length</th>\n",
       "      <th>petal_width</th>\n",
       "      <th>class</th>\n",
       "    </tr>\n",
       "  </thead>\n",
       "  <tbody>\n",
       "    <tr>\n",
       "      <th>0</th>\n",
       "      <td>5.1</td>\n",
       "      <td>3.5</td>\n",
       "      <td>1.4</td>\n",
       "      <td>0.2</td>\n",
       "      <td>Iris-setosa</td>\n",
       "    </tr>\n",
       "    <tr>\n",
       "      <th>1</th>\n",
       "      <td>4.9</td>\n",
       "      <td>3.0</td>\n",
       "      <td>1.4</td>\n",
       "      <td>0.2</td>\n",
       "      <td>Iris-setosa</td>\n",
       "    </tr>\n",
       "    <tr>\n",
       "      <th>2</th>\n",
       "      <td>4.7</td>\n",
       "      <td>3.2</td>\n",
       "      <td>1.3</td>\n",
       "      <td>0.2</td>\n",
       "      <td>Iris-setosa</td>\n",
       "    </tr>\n",
       "    <tr>\n",
       "      <th>3</th>\n",
       "      <td>4.6</td>\n",
       "      <td>3.1</td>\n",
       "      <td>1.5</td>\n",
       "      <td>0.2</td>\n",
       "      <td>Iris-setosa</td>\n",
       "    </tr>\n",
       "    <tr>\n",
       "      <th>4</th>\n",
       "      <td>5.0</td>\n",
       "      <td>3.6</td>\n",
       "      <td>1.4</td>\n",
       "      <td>0.2</td>\n",
       "      <td>Iris-setosa</td>\n",
       "    </tr>\n",
       "  </tbody>\n",
       "</table>\n",
       "</div>"
      ],
      "text/plain": [
       "   sepal_length  sepal_width  petal_length  petal_width        class\n",
       "0           5.1          3.5           1.4          0.2  Iris-setosa\n",
       "1           4.9          3.0           1.4          0.2  Iris-setosa\n",
       "2           4.7          3.2           1.3          0.2  Iris-setosa\n",
       "3           4.6          3.1           1.5          0.2  Iris-setosa\n",
       "4           5.0          3.6           1.4          0.2  Iris-setosa"
      ]
     },
     "execution_count": 185,
     "metadata": {},
     "output_type": "execute_result"
    }
   ],
   "source": [
    "dataset.head()"
   ]
  },
  {
   "cell_type": "code",
   "execution_count": 186,
   "id": "7b6ad56e",
   "metadata": {},
   "outputs": [
    {
     "data": {
      "image/png": "[encoded data removed]",
      "text/plain": [
       "<Figure size 640x480 with 1 Axes>"
      ]
     },
     "metadata": {},
     "output_type": "display_data"
    }
   ],
   "source": [
    "plt.plot(dataset[\"sepal_width\"],dataset[\"petal_length\"],'o')\n",
    "plt.xlabel('petal_length')\n",
    "plt.ylabel('sepal_width')\n",
    "plt.show()"
   ]
  },
  {
   "cell_type": "code",
   "execution_count": 187,
   "id": "dc5a27ae",
   "metadata": {},
   "outputs": [
    {
     "data": {
      "text/html": [
       "<div>\n",
       "<style scoped>\n",
       "    .dataframe tbody tr th:only-of-type {\n",
       "        vertical-align: middle;\n",
       "    }\n",
       "\n",
       "    .dataframe tbody tr th {\n",
       "        vertical-align: top;\n",
       "    }\n",
       "\n",
       "    .dataframe thead th {\n",
       "        text-align: right;\n",
       "    }\n",
       "</style>\n",
       "<table border=\"1\" class=\"dataframe\">\n",
       "  <thead>\n",
       "    <tr style=\"text-align: right;\">\n",
       "      <th></th>\n",
       "      <th>petal_length</th>\n",
       "      <th>sepal_width</th>\n",
       "    </tr>\n",
       "  </thead>\n",
       "  <tbody>\n",
       "    <tr>\n",
       "      <th>0</th>\n",
       "      <td>1.4</td>\n",
       "      <td>3.5</td>\n",
       "    </tr>\n",
       "    <tr>\n",
       "      <th>1</th>\n",
       "      <td>1.4</td>\n",
       "      <td>3.0</td>\n",
       "    </tr>\n",
       "    <tr>\n",
       "      <th>2</th>\n",
       "      <td>1.3</td>\n",
       "      <td>3.2</td>\n",
       "    </tr>\n",
       "    <tr>\n",
       "      <th>3</th>\n",
       "      <td>1.5</td>\n",
       "      <td>3.1</td>\n",
       "    </tr>\n",
       "    <tr>\n",
       "      <th>4</th>\n",
       "      <td>1.4</td>\n",
       "      <td>3.6</td>\n",
       "    </tr>\n",
       "    <tr>\n",
       "      <th>...</th>\n",
       "      <td>...</td>\n",
       "      <td>...</td>\n",
       "    </tr>\n",
       "    <tr>\n",
       "      <th>145</th>\n",
       "      <td>5.2</td>\n",
       "      <td>3.0</td>\n",
       "    </tr>\n",
       "    <tr>\n",
       "      <th>146</th>\n",
       "      <td>5.0</td>\n",
       "      <td>2.5</td>\n",
       "    </tr>\n",
       "    <tr>\n",
       "      <th>147</th>\n",
       "      <td>5.2</td>\n",
       "      <td>3.0</td>\n",
       "    </tr>\n",
       "    <tr>\n",
       "      <th>148</th>\n",
       "      <td>5.4</td>\n",
       "      <td>3.4</td>\n",
       "    </tr>\n",
       "    <tr>\n",
       "      <th>149</th>\n",
       "      <td>5.1</td>\n",
       "      <td>3.0</td>\n",
       "    </tr>\n",
       "  </tbody>\n",
       "</table>\n",
       "<p>150 rows × 2 columns</p>\n",
       "</div>"
      ],
      "text/plain": [
       "     petal_length  sepal_width\n",
       "0             1.4          3.5\n",
       "1             1.4          3.0\n",
       "2             1.3          3.2\n",
       "3             1.5          3.1\n",
       "4             1.4          3.6\n",
       "..            ...          ...\n",
       "145           5.2          3.0\n",
       "146           5.0          2.5\n",
       "147           5.2          3.0\n",
       "148           5.4          3.4\n",
       "149           5.1          3.0\n",
       "\n",
       "[150 rows x 2 columns]"
      ]
     },
     "execution_count": 187,
     "metadata": {},
     "output_type": "execute_result"
    }
   ],
   "source": [
    "df=dataset[['petal_length','sepal_width']]\n",
    "df"
   ]
  },
  {
   "cell_type": "code",
   "execution_count": 188,
   "id": "b5c2d3ff",
   "metadata": {},
   "outputs": [],
   "source": [
    "\n",
    "x=dataset.petal_length\n",
    "y=dataset.sepal_width\n"
   ]
  },
  {
   "cell_type": "code",
   "execution_count": 189,
   "id": "946c2c7e",
   "metadata": {},
   "outputs": [
    {
     "data": {
      "text/plain": [
       "0      1.4\n",
       "1      1.4\n",
       "2      1.3\n",
       "3      1.5\n",
       "4      1.4\n",
       "      ... \n",
       "145    5.2\n",
       "146    5.0\n",
       "147    5.2\n",
       "148    5.4\n",
       "149    5.1\n",
       "Name: petal_length, Length: 150, dtype: float64"
      ]
     },
     "execution_count": 189,
     "metadata": {},
     "output_type": "execute_result"
    }
   ],
   "source": [
    "x"
   ]
  },
  {
   "cell_type": "code",
   "execution_count": 190,
   "id": "53cf6861",
   "metadata": {},
   "outputs": [
    {
     "data": {
      "text/plain": [
       "(150,)"
      ]
     },
     "execution_count": 190,
     "metadata": {},
     "output_type": "execute_result"
    }
   ],
   "source": [
    "x.shape"
   ]
  },
  {
   "cell_type": "code",
   "execution_count": 191,
   "id": "df2012da",
   "metadata": {},
   "outputs": [
    {
     "data": {
      "text/plain": [
       "0      3.5\n",
       "1      3.0\n",
       "2      3.2\n",
       "3      3.1\n",
       "4      3.6\n",
       "      ... \n",
       "145    3.0\n",
       "146    2.5\n",
       "147    3.0\n",
       "148    3.4\n",
       "149    3.0\n",
       "Name: sepal_width, Length: 150, dtype: float64"
      ]
     },
     "execution_count": 191,
     "metadata": {},
     "output_type": "execute_result"
    }
   ],
   "source": [
    "y"
   ]
  },
  {
   "cell_type": "code",
   "execution_count": 192,
   "id": "96f1cead",
   "metadata": {},
   "outputs": [
    {
     "data": {
      "text/plain": [
       "(150,)"
      ]
     },
     "execution_count": 192,
     "metadata": {},
     "output_type": "execute_result"
    }
   ],
   "source": [
    "y.shape"
   ]
  },
  {
   "cell_type": "markdown",
   "id": "107cf286",
   "metadata": {},
   "source": [
    "Important: Après avoir vérifié les dimensions de x et y, On remarque que y n'a pas les dimensions (150, 1) et x n'a pas les dimensions (150,2). On corrige le problème avec np.reshape et values."
   ]
  },
  {
   "cell_type": "code",
   "execution_count": 193,
   "id": "0cda34fb",
   "metadata": {},
   "outputs": [
    {
     "data": {
      "text/plain": [
       "array([1.4, 1.4, 1.3, 1.5, 1.4, 1.7, 1.4, 1.5, 1.4, 1.5, 1.5, 1.6, 1.4,\n",
       "       1.1, 1.2, 1.5, 1.3, 1.4, 1.7, 1.5, 1.7, 1.5, 1. , 1.7, 1.9, 1.6,\n",
       "       1.6, 1.5, 1.4, 1.6, 1.6, 1.5, 1.5, 1.4, 1.5, 1.2, 1.3, 1.5, 1.3,\n",
       "       1.5, 1.3, 1.3, 1.3, 1.6, 1.9, 1.4, 1.6, 1.4, 1.5, 1.4, 4.7, 4.5,\n",
       "       4.9, 4. , 4.6, 4.5, 4.7, 3.3, 4.6, 3.9, 3.5, 4.2, 4. , 4.7, 3.6,\n",
       "       4.4, 4.5, 4.1, 4.5, 3.9, 4.8, 4. , 4.9, 4.7, 4.3, 4.4, 4.8, 5. ,\n",
       "       4.5, 3.5, 3.8, 3.7, 3.9, 5.1, 4.5, 4.5, 4.7, 4.4, 4.1, 4. , 4.4,\n",
       "       4.6, 4. , 3.3, 4.2, 4.2, 4.2, 4.3, 3. , 4.1, 6. , 5.1, 5.9, 5.6,\n",
       "       5.8, 6.6, 4.5, 6.3, 5.8, 6.1, 5.1, 5.3, 5.5, 5. , 5.1, 5.3, 5.5,\n",
       "       6.7, 6.9, 5. , 5.7, 4.9, 6.7, 4.9, 5.7, 6. , 4.8, 4.9, 5.6, 5.8,\n",
       "       6.1, 6.4, 5.6, 5.1, 5.6, 6.1, 5.6, 5.5, 4.8, 5.4, 5.6, 5.1, 5.1,\n",
       "       5.9, 5.7, 5.2, 5. , 5.2, 5.4, 5.1])"
      ]
     },
     "execution_count": 193,
     "metadata": {},
     "output_type": "execute_result"
    }
   ],
   "source": [
    "X=dataset.petal_length.values\n",
    "Y=dataset.sepal_width.values\n",
    "X"
   ]
  },
  {
   "cell_type": "code",
   "execution_count": 194,
   "id": "a111c214",
   "metadata": {},
   "outputs": [
    {
     "data": {
      "text/plain": [
       "(150,)"
      ]
     },
     "execution_count": 194,
     "metadata": {},
     "output_type": "execute_result"
    }
   ],
   "source": [
    "X.shape"
   ]
  },
  {
   "cell_type": "code",
   "execution_count": 195,
   "id": "eb4f57d7",
   "metadata": {},
   "outputs": [],
   "source": [
    "x=dataset.petal_length.values.reshape(150,1)\n",
    "y=dataset.sepal_width.values.reshape(150,1)"
   ]
  },
  {
   "cell_type": "code",
   "execution_count": 196,
   "id": "0594ec56",
   "metadata": {},
   "outputs": [
    {
     "name": "stdout",
     "output_type": "stream",
     "text": [
      "(150, 1)\n",
      "(150, 1)\n"
     ]
    }
   ],
   "source": [
    "print(x.shape)\n",
    "print(y.shape)"
   ]
  },
  {
   "cell_type": "markdown",
   "id": "187f5058",
   "metadata": {},
   "source": [
    "Création de la matrice X qui contient la colonne de Biais. Pour ca, on colle l'un contre l'autre le vecteur x et un vecteur 1 (avec np.ones) de dimension égale a celle de x"
   ]
  },
  {
   "cell_type": "code",
   "execution_count": 197,
   "id": "e8b25651",
   "metadata": {},
   "outputs": [],
   "source": [
    "X = np.hstack((x, np.ones(x.shape)))\n",
    "X = np.hstack((x**2, X))\n",
    "\n"
   ]
  },
  {
   "cell_type": "code",
   "execution_count": 198,
   "id": "1a08323e",
   "metadata": {},
   "outputs": [
    {
     "name": "stdout",
     "output_type": "stream",
     "text": [
      "(120, 1)\n",
      "(30, 1)\n",
      "(120, 1)\n",
      "(30, 1)\n"
     ]
    }
   ],
   "source": [
    "x_train, x_test, y_train, y_test = train_test_split(x, y, test_size=0.2, random_state=42)\n",
    "print(x_train.shape)\n",
    "print(x_test.shape)\n",
    "print(y_train.shape)\n",
    "print(y_test.shape)"
   ]
  },
  {
   "cell_type": "code",
   "execution_count": 199,
   "id": "bb66688b",
   "metadata": {},
   "outputs": [
    {
     "name": "stdout",
     "output_type": "stream",
     "text": [
      "(80, 3)\n",
      "(30, 2)\n",
      "(120, 1)\n",
      "(30, 1)\n"
     ]
    }
   ],
   "source": [
    "X_train=np.hstack((x_train,(np.ones(x_train.shape))))\n",
    "X_test=np.hstack((x_test,(np.ones(x_test.shape))))\n",
    "X_train = X_train.reshape(-1, 3)\n",
    "print(X_train.shape)\n",
    "print(X_test.shape)\n",
    "print(y_train.shape)\n",
    "print(y_test.shape)"
   ]
  },
  {
   "cell_type": "markdown",
   "id": "1f5703e5",
   "metadata": {},
   "source": [
    "Finalement, création d'un vecteur parametre θ, initialisé avec des coefficients aléatoires. Ce vecteur est de dimension (2, 1). Si on désire toujours reproduire le meme vecteur \n",
    "θ, on utilise comme avant np.random.seed(0)"
   ]
  },
  {
   "cell_type": "code",
   "execution_count": 200,
   "id": "e45f2b9a",
   "metadata": {},
   "outputs": [
    {
     "name": "stdout",
     "output_type": "stream",
     "text": [
      "Theta: [[1.76405235]\n",
      " [0.40015721]\n",
      " [0.97873798]]\n"
     ]
    }
   ],
   "source": [
    "np.random.seed(0) # pour produire toujours le meme vecteur theta aléatoire\n",
    "theta=np.random.randn(3,1)\n",
    "print('Theta:',theta)"
   ]
  },
  {
   "cell_type": "markdown",
   "id": "41a0e7d5",
   "metadata": {},
   "source": [
    "## 2. Modèle Linéaire\n",
    "On implémente un modèle selon l'équation matricielle F=X.θ et puis on teste le modèle initiale défini par la valeur initiale de θ qu'on a initialisé d'une manière aléatoire.\n"
   ]
  },
  {
   "cell_type": "code",
   "execution_count": 201,
   "id": "bc06c159",
   "metadata": {},
   "outputs": [],
   "source": [
    "def model(X, theta):\n",
    "    return X.dot(theta)"
   ]
  },
  {
   "cell_type": "code",
   "execution_count": 202,
   "id": "f4259e47",
   "metadata": {},
   "outputs": [
    {
     "name": "stdout",
     "output_type": "stream",
     "text": [
      "[[ 4.99650067]\n",
      " [ 4.99650067]\n",
      " [ 4.48019082]\n",
      " [ 5.54809158]\n",
      " [ 4.99650067]\n",
      " [ 6.75711652]\n",
      " [ 4.99650067]\n",
      " [ 5.54809158]\n",
      " [ 4.99650067]\n",
      " [ 5.54809158]\n",
      " [ 5.54809158]\n",
      " [ 6.13496352]\n",
      " [ 4.99650067]\n",
      " [ 3.55341425]\n",
      " [ 3.99916201]\n",
      " [ 5.54809158]\n",
      " [ 4.48019082]\n",
      " [ 4.99650067]\n",
      " [ 6.75711652]\n",
      " [ 5.54809158]\n",
      " [ 6.75711652]\n",
      " [ 5.54809158]\n",
      " [ 3.14294754]\n",
      " [ 6.75711652]\n",
      " [ 8.10726565]\n",
      " [ 6.13496352]\n",
      " [ 6.13496352]\n",
      " [ 5.54809158]\n",
      " [ 4.99650067]\n",
      " [ 6.13496352]\n",
      " [ 6.13496352]\n",
      " [ 5.54809158]\n",
      " [ 5.54809158]\n",
      " [ 4.99650067]\n",
      " [ 5.54809158]\n",
      " [ 3.99916201]\n",
      " [ 4.48019082]\n",
      " [ 5.54809158]\n",
      " [ 4.48019082]\n",
      " [ 5.54809158]\n",
      " [ 4.48019082]\n",
      " [ 4.48019082]\n",
      " [ 4.48019082]\n",
      " [ 6.13496352]\n",
      " [ 8.10726565]\n",
      " [ 4.99650067]\n",
      " [ 6.13496352]\n",
      " [ 4.99650067]\n",
      " [ 5.54809158]\n",
      " [ 4.99650067]\n",
      " [41.82739319]\n",
      " [38.50150543]\n",
      " [45.29440513]\n",
      " [30.80420435]\n",
      " [40.14680878]\n",
      " [38.50150543]\n",
      " [41.82739319]\n",
      " [21.50978682]\n",
      " [40.14680878]\n",
      " [29.37058728]\n",
      " [23.98892945]\n",
      " [33.77728164]\n",
      " [30.80420435]\n",
      " [41.82739319]\n",
      " [25.28142234]\n",
      " [36.89148312]\n",
      " [38.50150543]\n",
      " [32.27310247]\n",
      " [38.50150543]\n",
      " [29.37058728]\n",
      " [43.54325864]\n",
      " [30.80420435]\n",
      " [45.29440513]\n",
      " [41.82739319]\n",
      " [35.31674186]\n",
      " [36.89148312]\n",
      " [43.54325864]\n",
      " [47.08083268]\n",
      " [38.50150543]\n",
      " [23.98892945]\n",
      " [27.97225125]\n",
      " [26.60919627]\n",
      " [29.37058728]\n",
      " [48.90254127]\n",
      " [38.50150543]\n",
      " [38.50150543]\n",
      " [41.82739319]\n",
      " [36.89148312]\n",
      " [32.27310247]\n",
      " [30.80420435]\n",
      " [36.89148312]\n",
      " [40.14680878]\n",
      " [30.80420435]\n",
      " [21.50978682]\n",
      " [33.77728164]\n",
      " [33.77728164]\n",
      " [33.77728164]\n",
      " [35.31674186]\n",
      " [18.05568072]\n",
      " [32.27310247]\n",
      " [66.88556569]\n",
      " [48.90254127]\n",
      " [64.74632768]\n",
      " [58.54029992]\n",
      " [62.64237071]\n",
      " [80.46189575]\n",
      " [38.50150543]\n",
      " [73.51496601]\n",
      " [62.64237071]\n",
      " [69.06008475]\n",
      " [48.90254127]\n",
      " [52.65180159]\n",
      " [56.5421861 ]\n",
      " [47.08083268]\n",
      " [48.90254127]\n",
      " [52.65180159]\n",
      " [56.5421861 ]\n",
      " [82.84810109]\n",
      " [87.72635491]\n",
      " [47.08083268]\n",
      " [60.57369479]\n",
      " [45.29440513]\n",
      " [82.84810109]\n",
      " [45.29440513]\n",
      " [60.57369479]\n",
      " [66.88556569]\n",
      " [43.54325864]\n",
      " [45.29440513]\n",
      " [58.54029992]\n",
      " [62.64237071]\n",
      " [69.06008475]\n",
      " [75.79532821]\n",
      " [58.54029992]\n",
      " [48.90254127]\n",
      " [58.54029992]\n",
      " [69.06008475]\n",
      " [58.54029992]\n",
      " [56.5421861 ]\n",
      " [43.54325864]\n",
      " [54.57935332]\n",
      " [58.54029992]\n",
      " [48.90254127]\n",
      " [48.90254127]\n",
      " [64.74632768]\n",
      " [60.57369479]\n",
      " [50.7595309 ]\n",
      " [47.08083268]\n",
      " [50.7595309 ]\n",
      " [54.57935332]\n",
      " [48.90254127]]\n"
     ]
    }
   ],
   "source": [
    "print(model(X, theta))"
   ]
  },
  {
   "cell_type": "code",
   "execution_count": 204,
   "id": "0e86cdd4",
   "metadata": {},
   "outputs": [
    {
     "ename": "ValueError",
     "evalue": "x and y must have same first dimension, but have shapes (120, 1) and (80, 1)",
     "output_type": "error",
     "traceback": [
      "\u001b[1;31m---------------------------------------------------------------------------\u001b[0m",
      "\u001b[1;31mValueError\u001b[0m                                Traceback (most recent call last)",
      "Cell \u001b[1;32mIn[204], line 2\u001b[0m\n\u001b[0;32m      1\u001b[0m plt\u001b[38;5;241m.\u001b[39mplot(x_train, y_train, \u001b[38;5;124m'\u001b[39m\u001b[38;5;124mo\u001b[39m\u001b[38;5;124m'\u001b[39m, label\u001b[38;5;241m=\u001b[39m\u001b[38;5;124m'\u001b[39m\u001b[38;5;124mdataset entraînement\u001b[39m\u001b[38;5;124m'\u001b[39m)\n\u001b[1;32m----> 2\u001b[0m \u001b[43mplt\u001b[49m\u001b[38;5;241;43m.\u001b[39;49m\u001b[43mplot\u001b[49m\u001b[43m(\u001b[49m\u001b[43mx_train\u001b[49m\u001b[43m,\u001b[49m\u001b[43m \u001b[49m\u001b[43mmodel\u001b[49m\u001b[43m(\u001b[49m\u001b[43mX_train\u001b[49m\u001b[43m,\u001b[49m\u001b[43m \u001b[49m\u001b[43mtheta\u001b[49m\u001b[43m)\u001b[49m\u001b[43m,\u001b[49m\u001b[43m \u001b[49m\u001b[43mc\u001b[49m\u001b[38;5;241;43m=\u001b[39;49m\u001b[38;5;124;43m'\u001b[39;49m\u001b[38;5;124;43mr\u001b[39;49m\u001b[38;5;124;43m'\u001b[39;49m\u001b[43m,\u001b[49m\u001b[43m \u001b[49m\u001b[43mlabel\u001b[49m\u001b[38;5;241;43m=\u001b[39;49m\u001b[38;5;124;43m'\u001b[39;49m\u001b[38;5;124;43mmodèle initial\u001b[39;49m\u001b[38;5;124;43m'\u001b[39;49m\u001b[43m)\u001b[49m\n\u001b[0;32m      3\u001b[0m plt\u001b[38;5;241m.\u001b[39mxlabel(\u001b[38;5;124m'\u001b[39m\u001b[38;5;124mpetal_length\u001b[39m\u001b[38;5;124m'\u001b[39m)\n\u001b[0;32m      4\u001b[0m plt\u001b[38;5;241m.\u001b[39mylabel(\u001b[38;5;124m'\u001b[39m\u001b[38;5;124mpetal_width\u001b[39m\u001b[38;5;124m'\u001b[39m)\n",
      "File \u001b[1;32mc:\\Users\\hp\\AppData\\Local\\Programs\\Python\\Python311\\Lib\\site-packages\\matplotlib\\pyplot.py:2812\u001b[0m, in \u001b[0;36mplot\u001b[1;34m(scalex, scaley, data, *args, **kwargs)\u001b[0m\n\u001b[0;32m   2810\u001b[0m \u001b[38;5;129m@_copy_docstring_and_deprecators\u001b[39m(Axes\u001b[38;5;241m.\u001b[39mplot)\n\u001b[0;32m   2811\u001b[0m \u001b[38;5;28;01mdef\u001b[39;00m \u001b[38;5;21mplot\u001b[39m(\u001b[38;5;241m*\u001b[39margs, scalex\u001b[38;5;241m=\u001b[39m\u001b[38;5;28;01mTrue\u001b[39;00m, scaley\u001b[38;5;241m=\u001b[39m\u001b[38;5;28;01mTrue\u001b[39;00m, data\u001b[38;5;241m=\u001b[39m\u001b[38;5;28;01mNone\u001b[39;00m, \u001b[38;5;241m*\u001b[39m\u001b[38;5;241m*\u001b[39mkwargs):\n\u001b[1;32m-> 2812\u001b[0m     \u001b[38;5;28;01mreturn\u001b[39;00m \u001b[43mgca\u001b[49m\u001b[43m(\u001b[49m\u001b[43m)\u001b[49m\u001b[38;5;241;43m.\u001b[39;49m\u001b[43mplot\u001b[49m\u001b[43m(\u001b[49m\n\u001b[0;32m   2813\u001b[0m \u001b[43m        \u001b[49m\u001b[38;5;241;43m*\u001b[39;49m\u001b[43margs\u001b[49m\u001b[43m,\u001b[49m\u001b[43m \u001b[49m\u001b[43mscalex\u001b[49m\u001b[38;5;241;43m=\u001b[39;49m\u001b[43mscalex\u001b[49m\u001b[43m,\u001b[49m\u001b[43m \u001b[49m\u001b[43mscaley\u001b[49m\u001b[38;5;241;43m=\u001b[39;49m\u001b[43mscaley\u001b[49m\u001b[43m,\u001b[49m\n\u001b[0;32m   2814\u001b[0m \u001b[43m        \u001b[49m\u001b[38;5;241;43m*\u001b[39;49m\u001b[38;5;241;43m*\u001b[39;49m\u001b[43m(\u001b[49m\u001b[43m{\u001b[49m\u001b[38;5;124;43m\"\u001b[39;49m\u001b[38;5;124;43mdata\u001b[39;49m\u001b[38;5;124;43m\"\u001b[39;49m\u001b[43m:\u001b[49m\u001b[43m \u001b[49m\u001b[43mdata\u001b[49m\u001b[43m}\u001b[49m\u001b[43m \u001b[49m\u001b[38;5;28;43;01mif\u001b[39;49;00m\u001b[43m \u001b[49m\u001b[43mdata\u001b[49m\u001b[43m \u001b[49m\u001b[38;5;129;43;01mis\u001b[39;49;00m\u001b[43m \u001b[49m\u001b[38;5;129;43;01mnot\u001b[39;49;00m\u001b[43m \u001b[49m\u001b[38;5;28;43;01mNone\u001b[39;49;00m\u001b[43m \u001b[49m\u001b[38;5;28;43;01melse\u001b[39;49;00m\u001b[43m \u001b[49m\u001b[43m{\u001b[49m\u001b[43m}\u001b[49m\u001b[43m)\u001b[49m\u001b[43m,\u001b[49m\u001b[43m \u001b[49m\u001b[38;5;241;43m*\u001b[39;49m\u001b[38;5;241;43m*\u001b[39;49m\u001b[43mkwargs\u001b[49m\u001b[43m)\u001b[49m\n",
      "File \u001b[1;32mc:\\Users\\hp\\AppData\\Local\\Programs\\Python\\Python311\\Lib\\site-packages\\matplotlib\\axes\\_axes.py:1688\u001b[0m, in \u001b[0;36mAxes.plot\u001b[1;34m(self, scalex, scaley, data, *args, **kwargs)\u001b[0m\n\u001b[0;32m   1445\u001b[0m \u001b[38;5;250m\u001b[39m\u001b[38;5;124;03m\"\"\"\u001b[39;00m\n\u001b[0;32m   1446\u001b[0m \u001b[38;5;124;03mPlot y versus x as lines and/or markers.\u001b[39;00m\n\u001b[0;32m   1447\u001b[0m \n\u001b[1;32m   (...)\u001b[0m\n\u001b[0;32m   1685\u001b[0m \u001b[38;5;124;03m(``'green'``) or hex strings (``'#008000'``).\u001b[39;00m\n\u001b[0;32m   1686\u001b[0m \u001b[38;5;124;03m\"\"\"\u001b[39;00m\n\u001b[0;32m   1687\u001b[0m kwargs \u001b[38;5;241m=\u001b[39m cbook\u001b[38;5;241m.\u001b[39mnormalize_kwargs(kwargs, mlines\u001b[38;5;241m.\u001b[39mLine2D)\n\u001b[1;32m-> 1688\u001b[0m lines \u001b[38;5;241m=\u001b[39m [\u001b[38;5;241m*\u001b[39m\u001b[38;5;28mself\u001b[39m\u001b[38;5;241m.\u001b[39m_get_lines(\u001b[38;5;241m*\u001b[39margs, data\u001b[38;5;241m=\u001b[39mdata, \u001b[38;5;241m*\u001b[39m\u001b[38;5;241m*\u001b[39mkwargs)]\n\u001b[0;32m   1689\u001b[0m \u001b[38;5;28;01mfor\u001b[39;00m line \u001b[38;5;129;01min\u001b[39;00m lines:\n\u001b[0;32m   1690\u001b[0m     \u001b[38;5;28mself\u001b[39m\u001b[38;5;241m.\u001b[39madd_line(line)\n",
      "File \u001b[1;32mc:\\Users\\hp\\AppData\\Local\\Programs\\Python\\Python311\\Lib\\site-packages\\matplotlib\\axes\\_base.py:311\u001b[0m, in \u001b[0;36m_process_plot_var_args.__call__\u001b[1;34m(self, data, *args, **kwargs)\u001b[0m\n\u001b[0;32m    309\u001b[0m     this \u001b[38;5;241m+\u001b[39m\u001b[38;5;241m=\u001b[39m args[\u001b[38;5;241m0\u001b[39m],\n\u001b[0;32m    310\u001b[0m     args \u001b[38;5;241m=\u001b[39m args[\u001b[38;5;241m1\u001b[39m:]\n\u001b[1;32m--> 311\u001b[0m \u001b[38;5;28;01myield from\u001b[39;00m \u001b[38;5;28;43mself\u001b[39;49m\u001b[38;5;241;43m.\u001b[39;49m\u001b[43m_plot_args\u001b[49m\u001b[43m(\u001b[49m\n\u001b[0;32m    312\u001b[0m \u001b[43m    \u001b[49m\u001b[43mthis\u001b[49m\u001b[43m,\u001b[49m\u001b[43m \u001b[49m\u001b[43mkwargs\u001b[49m\u001b[43m,\u001b[49m\u001b[43m \u001b[49m\u001b[43mambiguous_fmt_datakey\u001b[49m\u001b[38;5;241;43m=\u001b[39;49m\u001b[43mambiguous_fmt_datakey\u001b[49m\u001b[43m)\u001b[49m\n",
      "File \u001b[1;32mc:\\Users\\hp\\AppData\\Local\\Programs\\Python\\Python311\\Lib\\site-packages\\matplotlib\\axes\\_base.py:504\u001b[0m, in \u001b[0;36m_process_plot_var_args._plot_args\u001b[1;34m(self, tup, kwargs, return_kwargs, ambiguous_fmt_datakey)\u001b[0m\n\u001b[0;32m    501\u001b[0m     \u001b[38;5;28mself\u001b[39m\u001b[38;5;241m.\u001b[39maxes\u001b[38;5;241m.\u001b[39myaxis\u001b[38;5;241m.\u001b[39mupdate_units(y)\n\u001b[0;32m    503\u001b[0m \u001b[38;5;28;01mif\u001b[39;00m x\u001b[38;5;241m.\u001b[39mshape[\u001b[38;5;241m0\u001b[39m] \u001b[38;5;241m!=\u001b[39m y\u001b[38;5;241m.\u001b[39mshape[\u001b[38;5;241m0\u001b[39m]:\n\u001b[1;32m--> 504\u001b[0m     \u001b[38;5;28;01mraise\u001b[39;00m \u001b[38;5;167;01mValueError\u001b[39;00m(\u001b[38;5;124mf\u001b[39m\u001b[38;5;124m\"\u001b[39m\u001b[38;5;124mx and y must have same first dimension, but \u001b[39m\u001b[38;5;124m\"\u001b[39m\n\u001b[0;32m    505\u001b[0m                      \u001b[38;5;124mf\u001b[39m\u001b[38;5;124m\"\u001b[39m\u001b[38;5;124mhave shapes \u001b[39m\u001b[38;5;132;01m{\u001b[39;00mx\u001b[38;5;241m.\u001b[39mshape\u001b[38;5;132;01m}\u001b[39;00m\u001b[38;5;124m and \u001b[39m\u001b[38;5;132;01m{\u001b[39;00my\u001b[38;5;241m.\u001b[39mshape\u001b[38;5;132;01m}\u001b[39;00m\u001b[38;5;124m\"\u001b[39m)\n\u001b[0;32m    506\u001b[0m \u001b[38;5;28;01mif\u001b[39;00m x\u001b[38;5;241m.\u001b[39mndim \u001b[38;5;241m>\u001b[39m \u001b[38;5;241m2\u001b[39m \u001b[38;5;129;01mor\u001b[39;00m y\u001b[38;5;241m.\u001b[39mndim \u001b[38;5;241m>\u001b[39m \u001b[38;5;241m2\u001b[39m:\n\u001b[0;32m    507\u001b[0m     \u001b[38;5;28;01mraise\u001b[39;00m \u001b[38;5;167;01mValueError\u001b[39;00m(\u001b[38;5;124mf\u001b[39m\u001b[38;5;124m\"\u001b[39m\u001b[38;5;124mx and y can be no greater than 2D, but have \u001b[39m\u001b[38;5;124m\"\u001b[39m\n\u001b[0;32m    508\u001b[0m                      \u001b[38;5;124mf\u001b[39m\u001b[38;5;124m\"\u001b[39m\u001b[38;5;124mshapes \u001b[39m\u001b[38;5;132;01m{\u001b[39;00mx\u001b[38;5;241m.\u001b[39mshape\u001b[38;5;132;01m}\u001b[39;00m\u001b[38;5;124m and \u001b[39m\u001b[38;5;132;01m{\u001b[39;00my\u001b[38;5;241m.\u001b[39mshape\u001b[38;5;132;01m}\u001b[39;00m\u001b[38;5;124m\"\u001b[39m)\n",
      "\u001b[1;31mValueError\u001b[0m: x and y must have same first dimension, but have shapes (120, 1) and (80, 1)"
     ]
    },
    {
     "data": {
      "image/png": "[encoded data removed]",
      "text/plain": [
       "<Figure size 640x480 with 1 Axes>"
      ]
     },
     "metadata": {},
     "output_type": "display_data"
    }
   ],
   "source": [
    "plt.plot(x_train, y_train, 'o', label='dataset entraînement')\n",
    "plt.plot(x_train, model(X_train, theta), c='r', label='modèle initial')\n",
    "plt.xlabel('petal_length')\n",
    "plt.ylabel('petal_width')\n",
    "plt.legend()\n",
    "plt.show()"
   ]
  },
  {
   "attachments": {
    "Capture%20d'%C3%A9cran%202023-04-04%20113116.png": {
     "image/png": "[encoded data removed]"
    }
   },
   "cell_type": "markdown",
   "id": "4f8ef408",
   "metadata": {},
   "source": [
    "## 3. Fonction coût : Erreur Quadratique Moyenne\n",
    "On mesure les erreurs du modele sur le Dataset X, y en implémenterl'erreur quadratique moyenne, Mean Squared Error (MSE) en anglais.\n",
    "![Capture%20d'%C3%A9cran%202023-04-04%20113116.png](attachment:Capture%20d'%C3%A9cran%202023-04-04%20113116.png)\n",
    "\n",
    "Ensuite, on teste notre fonction, pour voir s'il n'y a pas de bug"
   ]
  },
  {
   "cell_type": "code",
   "execution_count": null,
   "id": "3bfb4285",
   "metadata": {},
   "outputs": [],
   "source": [
    "def cost_function(X, y, theta):\n",
    "    m = len(y)\n",
    "    return 1/(2*m) * np.sum((model(X, theta) - y)**2)"
   ]
  },
  {
   "cell_type": "code",
   "execution_count": null,
   "id": "ec4ef451",
   "metadata": {},
   "outputs": [
    {
     "data": {
      "text/plain": [
       "709.5690601663018"
      ]
     },
     "execution_count": 82,
     "metadata": {},
     "output_type": "execute_result"
    }
   ],
   "source": [
    "cost_function(X, y, theta)"
   ]
  },
  {
   "attachments": {
    "grad.png": {
     "image/png": "[encoded data removed]"
    }
   },
   "cell_type": "markdown",
   "id": "e1af8e71",
   "metadata": {},
   "source": [
    "## 4. Gradients et Descente de Gradient\n",
    "On implémente la formule du gradient pour la MSE\n",
    "![grad.png](attachment:grad.png)\n",
    "Ensuite on utilise cette fonction dans la descente de gradient:\n",
    "\n"
   ]
  },
  {
   "attachments": {
    "Capture%20d'%C3%A9cran%202023-04-04%20114408.png": {
     "image/png": "[encoded data removed]"
    }
   },
   "cell_type": "markdown",
   "id": "527094e1",
   "metadata": {},
   "source": [
    "![Capture%20d'%C3%A9cran%202023-04-04%20114408.png](attachment:Capture%20d'%C3%A9cran%202023-04-04%20114408.png)"
   ]
  },
  {
   "cell_type": "code",
   "execution_count": null,
   "id": "bc48ccbb",
   "metadata": {},
   "outputs": [],
   "source": [
    "def grad(X, y, theta):\n",
    "    m = len(y)\n",
    "    return 1/m * X.T.dot(model(X, theta) - y)"
   ]
  },
  {
   "cell_type": "code",
   "execution_count": null,
   "id": "dcda7267",
   "metadata": {},
   "outputs": [],
   "source": [
    "def gradient_descent(X, y, theta, learning_rate, n_iterations):\n",
    "    \n",
    "    cost_history = np.zeros(n_iterations) # création d'un tableau de stockage pour enregistrer l'évolution du Cout du modele\n",
    "    \n",
    "    for i in range(0, n_iterations):\n",
    "        theta = theta - learning_rate * grad(X, y, theta) # mise a jour du parametre theta (formule du gradient descent)\n",
    "        cost_history[i] = cost_function(X, y, theta) # on enregistre la valeur du Cout au tour i dans cost_history[i]\n",
    "        \n",
    "    return theta, cost_history"
   ]
  },
  {
   "cell_type": "markdown",
   "id": "42add5a3",
   "metadata": {},
   "source": [
    "## 5. Phase d'entrainement\n",
    "On définit un nombre d'itérations, ainsi qu'un pas d'apprentissage α. Une fois le modele entrainé, on observe les resultats par rapport a notre Dataset"
   ]
  },
  {
   "cell_type": "code",
   "execution_count": null,
   "id": "1b30eb6b",
   "metadata": {},
   "outputs": [],
   "source": [
    "n_iterations = 40000\n",
    "learning_rate = 0.004\n",
    "\n",
    "theta_final, cost_history = gradient_descent(X, y, theta, learning_rate, n_iterations)"
   ]
  },
  {
   "cell_type": "code",
   "execution_count": null,
   "id": "ed0729ba",
   "metadata": {},
   "outputs": [
    {
     "data": {
      "text/plain": [
       "array([5.59635739e+02, 4.41423748e+02, 3.48221561e+02, ...,\n",
       "       5.83470591e-02, 5.83470574e-02, 5.83470557e-02])"
      ]
     },
     "execution_count": 86,
     "metadata": {},
     "output_type": "execute_result"
    }
   ],
   "source": [
    "cost_history # l'historique de la fonction coût qu'on va afficher par la suite. on remarque que sa valeur déminue et c'est ça l'objectif"
   ]
  },
  {
   "cell_type": "code",
   "execution_count": null,
   "id": "71ae7b0a",
   "metadata": {},
   "outputs": [
    {
     "data": {
      "text/plain": [
       "array([[ 0.08394072],\n",
       "       [-0.69346787],\n",
       "       [ 4.2145133 ]])"
      ]
     },
     "execution_count": 87,
     "metadata": {},
     "output_type": "execute_result"
    }
   ],
   "source": [
    "theta_final # voici les parametres du modele une fois que la machine a été entrainée"
   ]
  },
  {
   "cell_type": "code",
   "execution_count": null,
   "id": "606bfc53",
   "metadata": {},
   "outputs": [
    {
     "data": {
      "image/png": "[encoded data removed]",
      "text/plain": [
       "<Figure size 640x480 with 1 Axes>"
      ]
     },
     "metadata": {},
     "output_type": "display_data"
    }
   ],
   "source": [
    "plt.plot(x_train,y_train,'o',label='dataset entraînement')\n",
    "plt.plot(x_train, model(x_train, theta_final), c='r',label='modèle final')\n",
    "plt.xlabel('petal_length')\n",
    "plt.ylabel('petal_width')\n",
    "plt.legend()\n",
    "plt.show()"
   ]
  },
  {
   "cell_type": "code",
   "execution_count": null,
   "id": "676bedbd",
   "metadata": {},
   "outputs": [
    {
     "data": {
      "text/plain": [
       "array([[3.4081821 ],\n",
       "       [3.4081821 ],\n",
       "       [3.45486489],\n",
       "       [3.36317812],\n",
       "       [3.4081821 ],\n",
       "       [3.27820661],\n",
       "       [3.4081821 ],\n",
       "       [3.36317812],\n",
       "       [3.4081821 ],\n",
       "       [3.36317812],\n",
       "       [3.36317812],\n",
       "       [3.31985296],\n",
       "       [3.4081821 ],\n",
       "       [3.55326692],\n",
       "       [3.5032265 ],\n",
       "       [3.36317812],\n",
       "       [3.45486489],\n",
       "       [3.4081821 ],\n",
       "       [3.27820661],\n",
       "       [3.36317812],\n",
       "       [3.27820661],\n",
       "       [3.36317812],\n",
       "       [3.60498616],\n",
       "       [3.27820661],\n",
       "       [3.19995036],\n",
       "       [3.31985296],\n",
       "       [3.31985296],\n",
       "       [3.36317812],\n",
       "       [3.4081821 ],\n",
       "       [3.31985296],\n",
       "       [3.31985296],\n",
       "       [3.36317812],\n",
       "       [3.36317812],\n",
       "       [3.4081821 ],\n",
       "       [3.36317812],\n",
       "       [3.5032265 ],\n",
       "       [3.45486489],\n",
       "       [3.36317812],\n",
       "       [3.45486489],\n",
       "       [3.36317812],\n",
       "       [3.45486489],\n",
       "       [3.45486489],\n",
       "       [3.45486489],\n",
       "       [3.31985296],\n",
       "       [3.19995036],\n",
       "       [3.4081821 ],\n",
       "       [3.31985296],\n",
       "       [3.4081821 ],\n",
       "       [3.36317812],\n",
       "       [3.4081821 ],\n",
       "       [2.80946484],\n",
       "       [2.79370749],\n",
       "       [2.83193745],\n",
       "       [2.78369336],\n",
       "       [2.80074675],\n",
       "       [2.79370749],\n",
       "       [2.80946484],\n",
       "       [2.84018378],\n",
       "       [2.80074675],\n",
       "       [2.78672698],\n",
       "       [2.81564959],\n",
       "       [2.78266257],\n",
       "       [2.78369336],\n",
       "       [2.80946484],\n",
       "       [2.80590071],\n",
       "       [2.78834703],\n",
       "       [2.79370749],\n",
       "       [2.78233855],\n",
       "       [2.79370749],\n",
       "       [2.78672698],\n",
       "       [2.81986173],\n",
       "       [2.78369336],\n",
       "       [2.83193745],\n",
       "       [2.80946484],\n",
       "       [2.78466539],\n",
       "       [2.78834703],\n",
       "       [2.81986173],\n",
       "       [2.84569197],\n",
       "       [2.79370749],\n",
       "       [2.81564959],\n",
       "       [2.79143941],\n",
       "       [2.79783065],\n",
       "       [2.78672698],\n",
       "       [2.86112531],\n",
       "       [2.79370749],\n",
       "       [2.79370749],\n",
       "       [2.80946484],\n",
       "       [2.78834703],\n",
       "       [2.78233855],\n",
       "       [2.78369336],\n",
       "       [2.78834703],\n",
       "       [2.80074675],\n",
       "       [2.78369336],\n",
       "       [2.84018378],\n",
       "       [2.78266257],\n",
       "       [2.78266257],\n",
       "       [2.78266257],\n",
       "       [2.78466539],\n",
       "       [2.88957618],\n",
       "       [2.78233855],\n",
       "       [3.07557203],\n",
       "       [2.86112531],\n",
       "       [3.04502936],\n",
       "       [2.96347423],\n",
       "       [3.0161655 ],\n",
       "       [3.29408315],\n",
       "       [2.79370749],\n",
       "       [3.17727293],\n",
       "       [3.0161655 ],\n",
       "       [3.10779351],\n",
       "       [2.86112531],\n",
       "       [2.89702844],\n",
       "       [2.93964682],\n",
       "       [2.84569197],\n",
       "       [2.86112531],\n",
       "       [2.89702844],\n",
       "       [2.93964682],\n",
       "       [3.33637753],\n",
       "       [3.42600271],\n",
       "       [2.84569197],\n",
       "       [2.98898046],\n",
       "       [2.83193745],\n",
       "       [3.33637753],\n",
       "       [2.83193745],\n",
       "       [2.98898046],\n",
       "       [3.07557203],\n",
       "       [2.81986173],\n",
       "       [2.83193745],\n",
       "       [2.96347423],\n",
       "       [3.0161655 ],\n",
       "       [3.10779351],\n",
       "       [3.21453085],\n",
       "       [2.96347423],\n",
       "       [2.86112531],\n",
       "       [2.96347423],\n",
       "       [3.10779351],\n",
       "       [2.96347423],\n",
       "       [2.93964682],\n",
       "       [2.81986173],\n",
       "       [2.91749822],\n",
       "       [2.96347423],\n",
       "       [2.86112531],\n",
       "       [2.86112531],\n",
       "       [3.04502936],\n",
       "       [2.98898046],\n",
       "       [2.87823747],\n",
       "       [2.84569197],\n",
       "       [2.87823747],\n",
       "       [2.91749822],\n",
       "       [2.86112531]])"
      ]
     },
     "execution_count": 89,
     "metadata": {},
     "output_type": "execute_result"
    }
   ],
   "source": [
    "predictions = model(x_test, theta_final)\n",
    "plt.plot(x_test,y_test,'o',label='dataset test')\n",
    "plt.plot(x_test,predictions , c='r',label='prédictions')\n",
    "plt.xlabel('petal_length')\n",
    "plt.ylabel('petal_width')\n",
    "plt.legend()\n",
    "plt.show()"
   ]
  },
  {
   "cell_type": "code",
   "execution_count": null,
   "id": "415ab0a8",
   "metadata": {},
   "outputs": [
    {
     "name": "stdout",
     "output_type": "stream",
     "text": [
      "[2.88957618]\n"
     ]
    }
   ],
   "source": [
    "# Test: # prédire la largeur d'un pétale qui a une longueur de 2,5 cm\n",
    "X_2_5= np.array([9,3,1])\n",
    "pred_y_2_5=model(X_2_5, theta_final) \n",
    "print(pred_y_2_5)"
   ]
  },
  {
   "cell_type": "markdown",
   "id": "3d087de6",
   "metadata": {},
   "source": [
    "## 6. Courbe d'apprentissage\n",
    "\n",
    "   Pour vérifier si notre algorithme de Descente de gradient a bien fonctionné, on observe l'évolution de la fonction cout a travers les itérations. On est sensé obtenir une courbe qui diminue a chaque itération jusqu'a stagner a un niveau minimal (proche de zéro). Si la courbe ne suit pas ce motif, alors le pas learning_rate est peut-etre trop élevé, il faut prendre un pas plus faible."
   ]
  },
  {
   "cell_type": "code",
   "execution_count": null,
   "id": "519d3dbd",
   "metadata": {},
   "outputs": [
    {
     "data": {
      "image/png": "[encoded data removed]",
      "text/plain": [
       "<Figure size 640x480 with 1 Axes>"
      ]
     },
     "metadata": {},
     "output_type": "display_data"
    }
   ],
   "source": [
    "plt.plot(range(n_iterations), cost_history)\n",
    "plt.show()"
   ]
  },
  {
   "cell_type": "markdown",
   "id": "eb5cab7c",
   "metadata": {},
   "source": [
    "## 7. Evaluation du modèle - Coefficient de détermination\n",
    "\n",
    "   Le coefficient de détermination est un indice de la qualité de la prédiction de la régression linéaire. Le coefficient de détermination se situe entre 0 et 1. Plus il est proche de 1, plus la régression linéaire est en adéquation avec les données collectées\n",
    "  "
   ]
  },
  {
   "attachments": {
    "Capture%20d'%C3%A9cran%202023-04-04%20123236.png": {
     "image/png": "[encoded data removed]"
    }
   },
   "cell_type": "markdown",
   "id": "cc10bb18",
   "metadata": {},
   "source": [
    "![Capture%20d'%C3%A9cran%202023-04-04%20123236.png](attachment:Capture%20d'%C3%A9cran%202023-04-04%20123236.png)"
   ]
  },
  {
   "cell_type": "code",
   "execution_count": null,
   "id": "ea8f0458",
   "metadata": {},
   "outputs": [],
   "source": [
    "def coef_determination(y, pred):\n",
    "    u = ((y - pred)**2).sum()\n",
    "    v = ((y - y.mean())**2).sum()\n",
    "    return 1 - u/v"
   ]
  },
  {
   "cell_type": "code",
   "execution_count": null,
   "id": "406b1dfe",
   "metadata": {},
   "outputs": [
    {
     "data": {
      "text/plain": [
       "0.3751341642801215"
      ]
     },
     "execution_count": 93,
     "metadata": {},
     "output_type": "execute_result"
    }
   ],
   "source": [
    "coef_determination(y_test, predictions)"
   ]
  },
  {
   "cell_type": "code",
   "execution_count": null,
   "id": "84d1f8e1",
   "metadata": {},
   "outputs": [
    {
     "name": "stdout",
     "output_type": "stream",
     "text": [
      "<class 'pandas.core.frame.DataFrame'>\n",
      "RangeIndex: 150 entries, 0 to 149\n",
      "Data columns (total 5 columns):\n",
      " #   Column        Non-Null Count  Dtype  \n",
      "---  ------        --------------  -----  \n",
      " 0   sepal_length  150 non-null    float64\n",
      " 1   sepal_width   150 non-null    float64\n",
      " 2   petal_length  150 non-null    float64\n",
      " 3   petal_width   150 non-null    float64\n",
      " 4   class         150 non-null    object \n",
      "dtypes: float64(4), object(1)\n",
      "memory usage: 6.0+ KB\n"
     ]
    }
   ],
   "source": [
    "dataset.info()"
   ]
  },
  {
   "cell_type": "code",
   "execution_count": null,
   "id": "b81b4293",
   "metadata": {},
   "outputs": [],
   "source": []
  }
 ],
 "metadata": {
  "kernelspec": {
   "display_name": "Python 3 (ipykernel)",
   "language": "python",
   "name": "python3"
  },
  "language_info": {
   "codemirror_mode": {
    "name": "ipython",
    "version": 3
   },
   "file_extension": ".py",
   "mimetype": "text/x-python",
   "name": "python",
   "nbconvert_exporter": "python",
   "pygments_lexer": "ipython3",
   "version": "3.11.4"
  }
 },
 "nbformat": 4,
 "nbformat_minor": 5
}
